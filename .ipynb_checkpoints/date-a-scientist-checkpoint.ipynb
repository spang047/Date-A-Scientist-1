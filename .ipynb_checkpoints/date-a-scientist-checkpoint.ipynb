{
 "cells": [
  {
   "cell_type": "code",
   "execution_count": 123,
   "metadata": {},
   "outputs": [],
   "source": [
    "import numpy as np\n",
    "import pandas as pd\n",
    "import matplotlib.pyplot as plt\n",
    "from sklearn.model_selection import train_test_split\n",
    "from sklearn.tree import DecisionTreeClassifier\n",
    "from sklearn.linear_model import LinearRegression\n",
    "from sklearn.cluster import KMeans"
   ]
  },
  {
   "cell_type": "markdown",
   "metadata": {},
   "source": [
    "# Introduction\n",
    "The data set is part of CodeCademies Data-A-Scientist project that was provided by Okay Cupid. The goal of the project is to use different linear regression and machine learning models to make predictions about different preferences or characteristics of individuals who signed up for Okay Cupid. \n",
    "\n",
    "To start the project, I import the profile data from a CSV. I then will discuss the shape of the data, missing values, and work on cleaning up the data. But first, I will take a high level look at the data and see if I can come up with a question that can be solved using machine learning (ML). "
   ]
  },
  {
   "cell_type": "code",
   "execution_count": 37,
   "metadata": {},
   "outputs": [
    {
     "data": {
      "text/html": [
       "<div>\n",
       "<style scoped>\n",
       "    .dataframe tbody tr th:only-of-type {\n",
       "        vertical-align: middle;\n",
       "    }\n",
       "\n",
       "    .dataframe tbody tr th {\n",
       "        vertical-align: top;\n",
       "    }\n",
       "\n",
       "    .dataframe thead th {\n",
       "        text-align: right;\n",
       "    }\n",
       "</style>\n",
       "<table border=\"1\" class=\"dataframe\">\n",
       "  <thead>\n",
       "    <tr style=\"text-align: right;\">\n",
       "      <th></th>\n",
       "      <th>age</th>\n",
       "      <th>body_type</th>\n",
       "      <th>diet</th>\n",
       "      <th>drinks</th>\n",
       "      <th>drugs</th>\n",
       "      <th>education</th>\n",
       "      <th>essay0</th>\n",
       "      <th>essay1</th>\n",
       "      <th>essay2</th>\n",
       "      <th>essay3</th>\n",
       "      <th>...</th>\n",
       "      <th>location</th>\n",
       "      <th>offspring</th>\n",
       "      <th>orientation</th>\n",
       "      <th>pets</th>\n",
       "      <th>religion</th>\n",
       "      <th>sex</th>\n",
       "      <th>sign</th>\n",
       "      <th>smokes</th>\n",
       "      <th>speaks</th>\n",
       "      <th>status</th>\n",
       "    </tr>\n",
       "  </thead>\n",
       "  <tbody>\n",
       "    <tr>\n",
       "      <th>0</th>\n",
       "      <td>22</td>\n",
       "      <td>a little extra</td>\n",
       "      <td>strictly anything</td>\n",
       "      <td>socially</td>\n",
       "      <td>never</td>\n",
       "      <td>working on college/university</td>\n",
       "      <td>about me:&lt;br /&gt;\\n&lt;br /&gt;\\ni would love to think...</td>\n",
       "      <td>currently working as an international agent fo...</td>\n",
       "      <td>making people laugh.&lt;br /&gt;\\nranting about a go...</td>\n",
       "      <td>the way i look. i am a six foot half asian, ha...</td>\n",
       "      <td>...</td>\n",
       "      <td>south san francisco, california</td>\n",
       "      <td>doesn&amp;rsquo;t have kids, but might want them</td>\n",
       "      <td>straight</td>\n",
       "      <td>likes dogs and likes cats</td>\n",
       "      <td>agnosticism and very serious about it</td>\n",
       "      <td>m</td>\n",
       "      <td>gemini</td>\n",
       "      <td>sometimes</td>\n",
       "      <td>english</td>\n",
       "      <td>single</td>\n",
       "    </tr>\n",
       "    <tr>\n",
       "      <th>1</th>\n",
       "      <td>35</td>\n",
       "      <td>average</td>\n",
       "      <td>mostly other</td>\n",
       "      <td>often</td>\n",
       "      <td>sometimes</td>\n",
       "      <td>working on space camp</td>\n",
       "      <td>i am a chef: this is what that means.&lt;br /&gt;\\n1...</td>\n",
       "      <td>dedicating everyday to being an unbelievable b...</td>\n",
       "      <td>being silly. having ridiculous amonts of fun w...</td>\n",
       "      <td>NaN</td>\n",
       "      <td>...</td>\n",
       "      <td>oakland, california</td>\n",
       "      <td>doesn&amp;rsquo;t have kids, but might want them</td>\n",
       "      <td>straight</td>\n",
       "      <td>likes dogs and likes cats</td>\n",
       "      <td>agnosticism but not too serious about it</td>\n",
       "      <td>m</td>\n",
       "      <td>cancer</td>\n",
       "      <td>no</td>\n",
       "      <td>english (fluently), spanish (poorly), french (...</td>\n",
       "      <td>single</td>\n",
       "    </tr>\n",
       "    <tr>\n",
       "      <th>2</th>\n",
       "      <td>38</td>\n",
       "      <td>thin</td>\n",
       "      <td>anything</td>\n",
       "      <td>socially</td>\n",
       "      <td>NaN</td>\n",
       "      <td>graduated from masters program</td>\n",
       "      <td>i'm not ashamed of much, but writing public te...</td>\n",
       "      <td>i make nerdy software for musicians, artists, ...</td>\n",
       "      <td>improvising in different contexts. alternating...</td>\n",
       "      <td>my large jaw and large glasses are the physica...</td>\n",
       "      <td>...</td>\n",
       "      <td>san francisco, california</td>\n",
       "      <td>NaN</td>\n",
       "      <td>straight</td>\n",
       "      <td>has cats</td>\n",
       "      <td>NaN</td>\n",
       "      <td>m</td>\n",
       "      <td>pisces but it doesn&amp;rsquo;t matter</td>\n",
       "      <td>no</td>\n",
       "      <td>english, french, c++</td>\n",
       "      <td>available</td>\n",
       "    </tr>\n",
       "    <tr>\n",
       "      <th>3</th>\n",
       "      <td>23</td>\n",
       "      <td>thin</td>\n",
       "      <td>vegetarian</td>\n",
       "      <td>socially</td>\n",
       "      <td>NaN</td>\n",
       "      <td>working on college/university</td>\n",
       "      <td>i work in a library and go to school. . .</td>\n",
       "      <td>reading things written by old dead people</td>\n",
       "      <td>playing synthesizers and organizing books acco...</td>\n",
       "      <td>socially awkward but i do my best</td>\n",
       "      <td>...</td>\n",
       "      <td>berkeley, california</td>\n",
       "      <td>doesn&amp;rsquo;t want kids</td>\n",
       "      <td>straight</td>\n",
       "      <td>likes cats</td>\n",
       "      <td>NaN</td>\n",
       "      <td>m</td>\n",
       "      <td>pisces</td>\n",
       "      <td>no</td>\n",
       "      <td>english, german (poorly)</td>\n",
       "      <td>single</td>\n",
       "    </tr>\n",
       "    <tr>\n",
       "      <th>4</th>\n",
       "      <td>29</td>\n",
       "      <td>athletic</td>\n",
       "      <td>NaN</td>\n",
       "      <td>socially</td>\n",
       "      <td>never</td>\n",
       "      <td>graduated from college/university</td>\n",
       "      <td>hey how's it going? currently vague on the pro...</td>\n",
       "      <td>work work work work + play</td>\n",
       "      <td>creating imagery to look at:&lt;br /&gt;\\nhttp://bag...</td>\n",
       "      <td>i smile a lot and my inquisitive nature</td>\n",
       "      <td>...</td>\n",
       "      <td>san francisco, california</td>\n",
       "      <td>NaN</td>\n",
       "      <td>straight</td>\n",
       "      <td>likes dogs and likes cats</td>\n",
       "      <td>NaN</td>\n",
       "      <td>m</td>\n",
       "      <td>aquarius</td>\n",
       "      <td>no</td>\n",
       "      <td>english</td>\n",
       "      <td>single</td>\n",
       "    </tr>\n",
       "  </tbody>\n",
       "</table>\n",
       "<p>5 rows × 31 columns</p>\n",
       "</div>"
      ],
      "text/plain": [
       "   age       body_type               diet    drinks      drugs  \\\n",
       "0   22  a little extra  strictly anything  socially      never   \n",
       "1   35         average       mostly other     often  sometimes   \n",
       "2   38            thin           anything  socially        NaN   \n",
       "3   23            thin         vegetarian  socially        NaN   \n",
       "4   29        athletic                NaN  socially      never   \n",
       "\n",
       "                           education  \\\n",
       "0      working on college/university   \n",
       "1              working on space camp   \n",
       "2     graduated from masters program   \n",
       "3      working on college/university   \n",
       "4  graduated from college/university   \n",
       "\n",
       "                                              essay0  \\\n",
       "0  about me:<br />\\n<br />\\ni would love to think...   \n",
       "1  i am a chef: this is what that means.<br />\\n1...   \n",
       "2  i'm not ashamed of much, but writing public te...   \n",
       "3          i work in a library and go to school. . .   \n",
       "4  hey how's it going? currently vague on the pro...   \n",
       "\n",
       "                                              essay1  \\\n",
       "0  currently working as an international agent fo...   \n",
       "1  dedicating everyday to being an unbelievable b...   \n",
       "2  i make nerdy software for musicians, artists, ...   \n",
       "3          reading things written by old dead people   \n",
       "4                         work work work work + play   \n",
       "\n",
       "                                              essay2  \\\n",
       "0  making people laugh.<br />\\nranting about a go...   \n",
       "1  being silly. having ridiculous amonts of fun w...   \n",
       "2  improvising in different contexts. alternating...   \n",
       "3  playing synthesizers and organizing books acco...   \n",
       "4  creating imagery to look at:<br />\\nhttp://bag...   \n",
       "\n",
       "                                              essay3  ...  \\\n",
       "0  the way i look. i am a six foot half asian, ha...  ...   \n",
       "1                                                NaN  ...   \n",
       "2  my large jaw and large glasses are the physica...  ...   \n",
       "3                  socially awkward but i do my best  ...   \n",
       "4            i smile a lot and my inquisitive nature  ...   \n",
       "\n",
       "                          location  \\\n",
       "0  south san francisco, california   \n",
       "1              oakland, california   \n",
       "2        san francisco, california   \n",
       "3             berkeley, california   \n",
       "4        san francisco, california   \n",
       "\n",
       "                                      offspring orientation  \\\n",
       "0  doesn&rsquo;t have kids, but might want them    straight   \n",
       "1  doesn&rsquo;t have kids, but might want them    straight   \n",
       "2                                           NaN    straight   \n",
       "3                       doesn&rsquo;t want kids    straight   \n",
       "4                                           NaN    straight   \n",
       "\n",
       "                        pets                                  religion sex  \\\n",
       "0  likes dogs and likes cats     agnosticism and very serious about it   m   \n",
       "1  likes dogs and likes cats  agnosticism but not too serious about it   m   \n",
       "2                   has cats                                       NaN   m   \n",
       "3                 likes cats                                       NaN   m   \n",
       "4  likes dogs and likes cats                                       NaN   m   \n",
       "\n",
       "                                 sign     smokes  \\\n",
       "0                              gemini  sometimes   \n",
       "1                              cancer         no   \n",
       "2  pisces but it doesn&rsquo;t matter         no   \n",
       "3                              pisces         no   \n",
       "4                            aquarius         no   \n",
       "\n",
       "                                              speaks     status  \n",
       "0                                            english     single  \n",
       "1  english (fluently), spanish (poorly), french (...     single  \n",
       "2                               english, french, c++  available  \n",
       "3                           english, german (poorly)     single  \n",
       "4                                            english     single  \n",
       "\n",
       "[5 rows x 31 columns]"
      ]
     },
     "execution_count": 37,
     "metadata": {},
     "output_type": "execute_result"
    }
   ],
   "source": [
    "love = pd.read_csv('profiles.csv')\n",
    "love.head(5)"
   ]
  },
  {
   "cell_type": "code",
   "execution_count": 3,
   "metadata": {},
   "outputs": [
    {
     "data": {
      "text/html": [
       "<div>\n",
       "<style scoped>\n",
       "    .dataframe tbody tr th:only-of-type {\n",
       "        vertical-align: middle;\n",
       "    }\n",
       "\n",
       "    .dataframe tbody tr th {\n",
       "        vertical-align: top;\n",
       "    }\n",
       "\n",
       "    .dataframe thead th {\n",
       "        text-align: right;\n",
       "    }\n",
       "</style>\n",
       "<table border=\"1\" class=\"dataframe\">\n",
       "  <thead>\n",
       "    <tr style=\"text-align: right;\">\n",
       "      <th></th>\n",
       "      <th>ethnicity</th>\n",
       "      <th>job</th>\n",
       "      <th>height</th>\n",
       "    </tr>\n",
       "  </thead>\n",
       "  <tbody>\n",
       "    <tr>\n",
       "      <th>0</th>\n",
       "      <td>asian, white</td>\n",
       "      <td>transportation</td>\n",
       "      <td>75.0</td>\n",
       "    </tr>\n",
       "    <tr>\n",
       "      <th>1</th>\n",
       "      <td>white</td>\n",
       "      <td>hospitality / travel</td>\n",
       "      <td>70.0</td>\n",
       "    </tr>\n",
       "    <tr>\n",
       "      <th>2</th>\n",
       "      <td>NaN</td>\n",
       "      <td>NaN</td>\n",
       "      <td>68.0</td>\n",
       "    </tr>\n",
       "    <tr>\n",
       "      <th>3</th>\n",
       "      <td>white</td>\n",
       "      <td>student</td>\n",
       "      <td>71.0</td>\n",
       "    </tr>\n",
       "    <tr>\n",
       "      <th>4</th>\n",
       "      <td>asian, black, other</td>\n",
       "      <td>artistic / musical / writer</td>\n",
       "      <td>66.0</td>\n",
       "    </tr>\n",
       "    <tr>\n",
       "      <th>...</th>\n",
       "      <td>...</td>\n",
       "      <td>...</td>\n",
       "      <td>...</td>\n",
       "    </tr>\n",
       "    <tr>\n",
       "      <th>59941</th>\n",
       "      <td>NaN</td>\n",
       "      <td>sales / marketing / biz dev</td>\n",
       "      <td>62.0</td>\n",
       "    </tr>\n",
       "    <tr>\n",
       "      <th>59942</th>\n",
       "      <td>white, other</td>\n",
       "      <td>entertainment / media</td>\n",
       "      <td>72.0</td>\n",
       "    </tr>\n",
       "    <tr>\n",
       "      <th>59943</th>\n",
       "      <td>asian</td>\n",
       "      <td>construction / craftsmanship</td>\n",
       "      <td>71.0</td>\n",
       "    </tr>\n",
       "    <tr>\n",
       "      <th>59944</th>\n",
       "      <td>asian, black</td>\n",
       "      <td>medicine / health</td>\n",
       "      <td>73.0</td>\n",
       "    </tr>\n",
       "    <tr>\n",
       "      <th>59945</th>\n",
       "      <td>white</td>\n",
       "      <td>medicine / health</td>\n",
       "      <td>68.0</td>\n",
       "    </tr>\n",
       "  </tbody>\n",
       "</table>\n",
       "<p>59946 rows × 3 columns</p>\n",
       "</div>"
      ],
      "text/plain": [
       "                 ethnicity                           job  height\n",
       "0             asian, white                transportation    75.0\n",
       "1                    white          hospitality / travel    70.0\n",
       "2                      NaN                           NaN    68.0\n",
       "3                    white                       student    71.0\n",
       "4      asian, black, other   artistic / musical / writer    66.0\n",
       "...                    ...                           ...     ...\n",
       "59941                  NaN   sales / marketing / biz dev    62.0\n",
       "59942         white, other         entertainment / media    72.0\n",
       "59943                asian  construction / craftsmanship    71.0\n",
       "59944         asian, black             medicine / health    73.0\n",
       "59945                white             medicine / health    68.0\n",
       "\n",
       "[59946 rows x 3 columns]"
      ]
     },
     "execution_count": 3,
     "metadata": {},
     "output_type": "execute_result"
    }
   ],
   "source": [
    "love[['ethnicity','job', 'height']]"
   ]
  },
  {
   "cell_type": "code",
   "execution_count": 6,
   "metadata": {},
   "outputs": [
    {
     "name": "stdout",
     "output_type": "stream",
     "text": [
      "<class 'pandas.core.frame.DataFrame'>\n",
      "RangeIndex: 59946 entries, 0 to 59945\n",
      "Data columns (total 31 columns):\n",
      " #   Column       Non-Null Count  Dtype  \n",
      "---  ------       --------------  -----  \n",
      " 0   age          59946 non-null  int64  \n",
      " 1   body_type    54650 non-null  object \n",
      " 2   diet         35551 non-null  object \n",
      " 3   drinks       56961 non-null  object \n",
      " 4   drugs        45866 non-null  object \n",
      " 5   education    53318 non-null  object \n",
      " 6   essay0       54458 non-null  object \n",
      " 7   essay1       52374 non-null  object \n",
      " 8   essay2       50308 non-null  object \n",
      " 9   essay3       48470 non-null  object \n",
      " 10  essay4       49409 non-null  object \n",
      " 11  essay5       49096 non-null  object \n",
      " 12  essay6       46175 non-null  object \n",
      " 13  essay7       47495 non-null  object \n",
      " 14  essay8       40721 non-null  object \n",
      " 15  essay9       47343 non-null  object \n",
      " 16  ethnicity    54266 non-null  object \n",
      " 17  height       59943 non-null  float64\n",
      " 18  income       59946 non-null  int64  \n",
      " 19  job          51748 non-null  object \n",
      " 20  last_online  59946 non-null  object \n",
      " 21  location     59946 non-null  object \n",
      " 22  offspring    24385 non-null  object \n",
      " 23  orientation  59946 non-null  object \n",
      " 24  pets         40025 non-null  object \n",
      " 25  religion     39720 non-null  object \n",
      " 26  sex          59946 non-null  object \n",
      " 27  sign         48890 non-null  object \n",
      " 28  smokes       54434 non-null  object \n",
      " 29  speaks       59896 non-null  object \n",
      " 30  status       59946 non-null  object \n",
      "dtypes: float64(1), int64(2), object(28)\n",
      "memory usage: 14.2+ MB\n"
     ]
    }
   ],
   "source": [
    "love.info()"
   ]
  },
  {
   "cell_type": "code",
   "execution_count": 4,
   "metadata": {},
   "outputs": [
    {
     "data": {
      "text/plain": [
       "age               54\n",
       "body_type         12\n",
       "diet              18\n",
       "drinks             6\n",
       "drugs              3\n",
       "education         32\n",
       "essay0         54350\n",
       "essay1         51516\n",
       "essay2         48635\n",
       "essay3         43533\n",
       "essay4         49260\n",
       "essay5         48963\n",
       "essay6         43603\n",
       "essay7         45554\n",
       "essay8         39324\n",
       "essay9         45443\n",
       "ethnicity        217\n",
       "height            60\n",
       "income            13\n",
       "job               21\n",
       "last_online    30123\n",
       "location         199\n",
       "offspring         15\n",
       "orientation        3\n",
       "pets              15\n",
       "religion          45\n",
       "sex                2\n",
       "sign              48\n",
       "smokes             5\n",
       "speaks          7647\n",
       "status             5\n",
       "dtype: int64"
      ]
     },
     "execution_count": 4,
     "metadata": {},
     "output_type": "execute_result"
    }
   ],
   "source": [
    "love.nunique()"
   ]
  },
  {
   "cell_type": "markdown",
   "metadata": {},
   "source": [
    "After reviewing the data, an interesting question would be to see if income can be predicted based on education, body type, smoking, diet, and sign. I will test three different methods of determining the best way to predict income. I'll be using a linear regression, k nearest neighbor, and random forest. Each method will be graded on the others based on the option that is best for predicting income. \n",
    "\n",
    "Much of the data is not in a numerical format and needs to be mapped to something that a machine learning algorithm can analyze. To start, I list out the unique values to check for mapping that has a scale. The zodiac signs does not easily allow for converting to a numerical scale. I'll remove that data from the set. \n",
    "\n",
    "For sex, I will convert to a 1 for male and 0 for female. \n",
    "\n",
    "For sexual orientation, I will convert to a 0 is straight, 1 is bisexual, and 2 is gay. \n",
    "\n",
    "For drinking, I will convert 'no' to 0, 'sometimes' to 1, 'when drinking' to 2, 'yes' to 2, and 'trying to quit' to 3. I am combining the 'when drinking' and 'yes' as those responses are similar. There is a fair amount of nan values that I am going to fill with the rounded average of the responses. \n",
    "\n",
    "For status, I will convert 'single' to 0, 'available' to 1, 'seeing someone' to 2, 'married' to 3, and 'unknown' to 4. \n",
    "\n",
    "For school, there will be more work to group the levels. To simplify the data, it will be broken down into five buckets from  didn't finish high school, high school, associates, bachelors, masters, doctors, and space camp. If someone started a program but didn't finish - they will be dropped down the lower level. Those working on a level will be considered the next level down. The following will be the groupings:\n",
    "\n",
    "    No high school: 'dropped out of high school', 'working on high school'\n",
    "    \n",
    "    High school: 'high school', 'dropped out of two-year college', 'graduated from high school', 'dropped out of college/university'\n",
    "    \n",
    "    Associates: 'working on two-year college', 'two-year college', 'graduated from two-year college', \n",
    "    \n",
    "    Bachelors: 'working on college/university', 'graduated from college/university', 'college/university', 'dropped out of masters program' \n",
    "    \n",
    "    Masters: 'graduated from masters program', 'working on masters program', 'masters program', 'dropped out of ph.d program', 'dropped out of med school', 'dropped out of law school'\n",
    "    \n",
    "    Doctors: 'graduated from PH/d program', 'graduated from law school', 'working on ph.d program', 'working on med school', 'graduated from med school', 'working on law school', 'law school', 'ph.d program', 'med school'\n",
    "    \n",
    "    Space camp: 'working on space camp', 'graduated from space camp', 'dropped out of space camp' \n",
    "    "
   ]
  },
  {
   "cell_type": "code",
   "execution_count": 52,
   "metadata": {},
   "outputs": [
    {
     "name": "stdout",
     "output_type": "stream",
     "text": [
      "sex  :\n",
      " ['m' 'f']\n",
      "orientation  :\n",
      " ['straight' 'bisexual' 'gay']\n",
      "smokes  :\n",
      " ['sometimes' 'no' nan 'when drinking' 'yes' 'trying to quit']\n",
      "status  :\n",
      " ['single' 'available' 'seeing someone' 'married' 'unknown']\n",
      "income  :\n",
      " [     -1   80000   20000   40000   30000   50000   60000 1000000  150000\n",
      "  100000  500000   70000  250000]\n",
      "education  :\n",
      " ['working on college/university' 'working on space camp'\n",
      " 'graduated from masters program' 'graduated from college/university'\n",
      " 'working on two-year college' nan 'graduated from high school'\n",
      " 'working on masters program' 'graduated from space camp'\n",
      " 'college/university' 'dropped out of space camp'\n",
      " 'graduated from ph.d program' 'graduated from law school'\n",
      " 'working on ph.d program' 'two-year college'\n",
      " 'graduated from two-year college' 'working on med school'\n",
      " 'dropped out of college/university' 'space camp'\n",
      " 'graduated from med school' 'dropped out of high school'\n",
      " 'working on high school' 'masters program' 'dropped out of ph.d program'\n",
      " 'dropped out of two-year college' 'dropped out of med school'\n",
      " 'high school' 'working on law school' 'law school'\n",
      " 'dropped out of masters program' 'ph.d program'\n",
      " 'dropped out of law school' 'med school']\n",
      "diet  :\n",
      " ['strictly anything' 'mostly other' 'anything' 'vegetarian' nan\n",
      " 'mostly anything' 'mostly vegetarian' 'strictly vegan'\n",
      " 'strictly vegetarian' 'mostly vegan' 'strictly other' 'mostly halal'\n",
      " 'other' 'vegan' 'mostly kosher' 'strictly halal' 'halal'\n",
      " 'strictly kosher' 'kosher']\n",
      "height  :\n",
      " [75. 70. 68. 71. 66. 67. 65. 72. 62. 64. 69. 73. 74. 60. 63. 76. 61. 78.\n",
      " 79. 59. 80. 91. 83. 77. 58. 56. 95. 57. 87. 81. 36. 43. 52. 55. 53. 93.\n",
      "  8. 54. 82.  3. 86. 42. 84. 94. 50.  6. 47. 49. 48. 90. 88. nan 37.  9.\n",
      " 51.  1. 92. 26. 85. 89.  4.]\n",
      "job  :\n",
      " ['transportation' 'hospitality / travel' nan 'student'\n",
      " 'artistic / musical / writer' 'computer / hardware / software'\n",
      " 'banking / financial / real estate' 'entertainment / media'\n",
      " 'sales / marketing / biz dev' 'other' 'medicine / health'\n",
      " 'science / tech / engineering' 'executive / management'\n",
      " 'education / academia' 'clerical / administrative'\n",
      " 'construction / craftsmanship' 'rather not say' 'political / government'\n",
      " 'law / legal services' 'unemployed' 'military' 'retired']\n",
      "body_type  :\n",
      " ['a little extra' 'average' 'thin' 'athletic' 'fit' nan 'skinny' 'curvy'\n",
      " 'full figured' 'jacked' 'rather not say' 'used up' 'overweight']\n",
      "sign  :\n",
      " ['gemini' 'cancer' 'pisces but it doesn&rsquo;t matter' 'pisces'\n",
      " 'aquarius' 'taurus' 'virgo' 'sagittarius'\n",
      " 'gemini but it doesn&rsquo;t matter' 'cancer but it doesn&rsquo;t matter'\n",
      " 'leo but it doesn&rsquo;t matter' nan\n",
      " 'aquarius but it doesn&rsquo;t matter'\n",
      " 'aries and it&rsquo;s fun to think about'\n",
      " 'libra but it doesn&rsquo;t matter'\n",
      " 'pisces and it&rsquo;s fun to think about' 'libra'\n",
      " 'taurus but it doesn&rsquo;t matter'\n",
      " 'sagittarius but it doesn&rsquo;t matter' 'scorpio and it matters a lot'\n",
      " 'gemini and it&rsquo;s fun to think about'\n",
      " 'leo and it&rsquo;s fun to think about'\n",
      " 'cancer and it&rsquo;s fun to think about'\n",
      " 'libra and it&rsquo;s fun to think about'\n",
      " 'aquarius and it&rsquo;s fun to think about'\n",
      " 'virgo but it doesn&rsquo;t matter'\n",
      " 'scorpio and it&rsquo;s fun to think about'\n",
      " 'capricorn but it doesn&rsquo;t matter' 'scorpio'\n",
      " 'capricorn and it&rsquo;s fun to think about' 'leo'\n",
      " 'aries but it doesn&rsquo;t matter' 'aries'\n",
      " 'scorpio but it doesn&rsquo;t matter'\n",
      " 'sagittarius and it&rsquo;s fun to think about'\n",
      " 'libra and it matters a lot' 'taurus and it&rsquo;s fun to think about'\n",
      " 'leo and it matters a lot' 'virgo and it&rsquo;s fun to think about'\n",
      " 'cancer and it matters a lot' 'capricorn' 'pisces and it matters a lot'\n",
      " 'aries and it matters a lot' 'capricorn and it matters a lot'\n",
      " 'aquarius and it matters a lot' 'sagittarius and it matters a lot'\n",
      " 'gemini and it matters a lot' 'taurus and it matters a lot'\n",
      " 'virgo and it matters a lot']\n"
     ]
    }
   ],
   "source": [
    "features = ['sex', 'age', 'orientation', 'smokes', 'status', 'income', 'education', 'diet', 'height', 'job', 'body_type', 'sign']\n",
    "\n",
    "for i in features:\n",
    "    print(i, ' :\\n\\n',love[i].unique())"
   ]
  },
  {
   "cell_type": "markdown",
   "metadata": {},
   "source": [
    "The heights values look a little weird, with heights of one inch or three inches and so on. Start with looking at the histogram distribution to see the amount of values that are at the low end. "
   ]
  },
  {
   "cell_type": "code",
   "execution_count": 8,
   "metadata": {},
   "outputs": [
    {
     "data": {
      "image/png": "[encoded data removed]",
      "text/plain": [
       "<Figure size 432x288 with 1 Axes>"
      ]
     },
     "metadata": {
      "needs_background": "light"
     },
     "output_type": "display_data"
    },
    {
     "data": {
      "text/plain": [
       "<Figure size 432x288 with 0 Axes>"
      ]
     },
     "metadata": {},
     "output_type": "display_data"
    }
   ],
   "source": [
    "plt.hist(love.height)\n",
    "plt.show()\n",
    "plt.clf()"
   ]
  },
  {
   "cell_type": "markdown",
   "metadata": {},
   "source": [
    "The counts of the information is really high, and makes the scaling difficult to understand the counts on the low end. The histogram is resized to look at heights below fifty inches. "
   ]
  },
  {
   "cell_type": "code",
   "execution_count": 9,
   "metadata": {},
   "outputs": [
    {
     "data": {
      "image/png": "[encoded data removed]",
      "text/plain": [
       "<Figure size 432x288 with 1 Axes>"
      ]
     },
     "metadata": {
      "needs_background": "light"
     },
     "output_type": "display_data"
    },
    {
     "data": {
      "text/plain": [
       "<Figure size 432x288 with 0 Axes>"
      ]
     },
     "metadata": {},
     "output_type": "display_data"
    }
   ],
   "source": [
    "plt.hist(love.height, range = (0, 50))\n",
    "plt.show()\n",
    "plt.clf()\n",
    "\n",
    "### need to map for shorter heights with average of population. Start height at 3'."
   ]
  },
  {
   "cell_type": "markdown",
   "metadata": {},
   "source": [
    "It looks like there are some heights below ten that could be revised. Those below ten will be converted to the average height of the other items. The count of these values is low, and should have minimal impact on results. \n",
    "\n",
    "Much of the data is not in a numerical format and needs to be mapped to something that a machine learning algorithm can analyze. To start, I list out the unique values to check for mapping that has a scale. The zodiac signs does not easily allow for converting to a numerical scale. Also, the job and diet values will be hard to map to numbers. I'll remove that data from the set.\n",
    "\n",
    "For sex, I will convert to a 1 for male and 0 for female.\n",
    "\n",
    "For sexual orientation, I will convert to a 0 is straight, 1 is bisexual, and 2 is gay.\n",
    "\n",
    "For drinking, I will convert 'no' to 0, 'sometimes' to 1, 'when drinking' to 2, 'yes' to 2, and 'trying to quit' to 3. I am combining the 'when drinking' and 'yes' as those responses are similar. There is a fair amount of nan values that I am going to fill with the rounded average of the responses.\n",
    "\n",
    "For status, I will convert 'single' to 0, 'available' to 1, 'seeing someone' to 2, 'married' to 3, and 'unknown' to 4.\n",
    "\n",
    "For school, there will be more work to group the levels. To simplify the data, it will be broken down into five buckets from didn't finish high school, high school, associates, bachelors, masters, doctors, and space camp. If someone started a program but didn't finish - they will be dropped down the lower level. Those working on a level will be considered the next level down. The following will be the groupings:\n",
    "\n",
    "    No high school: 'dropped out of high school', 'working on high school'\n",
    "\n",
    "    High school: 'high school', 'dropped out of two-year college', 'graduated from high school', 'dropped out of college/university'\n",
    "\n",
    "    Associates: 'working on two-year college', 'two-year college', 'graduated from two-year college', \n",
    "\n",
    "    Bachelors: 'working on college/university', 'graduated from college/university', 'college/university', 'dropped out of masters program' \n",
    "\n",
    "    Masters: 'graduated from masters program', 'working on masters program', 'masters program', 'dropped out of ph.d program', 'dropped out of med school', 'dropped out of law school'\n",
    "\n",
    "    Professional: 'graduated from PH/d program', 'graduated from law school', 'working on ph.d program', 'working on med school', 'graduated from med school', 'working on law school', 'law school', 'ph.d program', 'med school'\n",
    "\n",
    "    Space camp: 'working on space camp', 'graduated from space camp', 'dropped out of space camp' \n",
    "\n",
    "The above brackets could be broken into further categories, and exploration of different groups could be done as further work. That is not covered in this analysis. \n",
    "\n",
    "The other category with a breakdown potential is body type. Body type breaks down as such:\n",
    "    0 : 'thin', 'skinny'\n",
    "    1 : 'athletic', 'fit', 'jacked'\n",
    "    2 : 'a little extra', 'average', Nan, 'rather not say'\n",
    "    3 : 'used up', 'overweight', 'full figured', 'curvy'\n",
    " \n",
    "For nan and prefer not to say, I will map as average given there is a decent chance they are of average weight. As with the education status, the weight can be further broken down. This one is the least gradient of options for using numbers and may come out as not being that important factor of income. "
   ]
  },
  {
   "cell_type": "code",
   "execution_count": 112,
   "metadata": {
    "scrolled": false
   },
   "outputs": [
    {
     "name": "stdout",
     "output_type": "stream",
     "text": [
      "sex  : 0\n",
      "age  : 0\n",
      "orientation  : 0\n",
      "smokes  : 0\n",
      "status  : 0\n",
      "income  : 0\n",
      "education  : 0\n",
      "height  : 0\n",
      "body_type  : 0\n"
     ]
    }
   ],
   "source": [
    "# creating a new dataframe to reload data. Otherwise, the dataframe gets \\\n",
    "# overwritten and makes all the values NaN on rerunning the cell.  \n",
    "headings = ['sex', 'age', 'orientation', 'smokes', 'status', 'income', 'education', 'height','body_type']\n",
    "love_map.sex = love.sex.map({'m':0, 'f':1})\n",
    "love_map.orientation = love.orientation.map({'straight':0, 'bisexual':1, 'gay':2})\n",
    "love_map.smokes = love.smokes.map({'no':0, 'sometimes':1, 'when drinking':2, 'yes':2, 'trying to quit': 3})\n",
    "love_map.smokes.fillna(0, inplace = True)\n",
    "love_map.status = love.status.map({'single':0, 'available':1, 'seeing someone':2, 'married':3, 'unknown': 4})\n",
    "love_map.status.fillna(0, inplace = True)\n",
    "# This mapping is a little sloppy with the text going far to the right, and may be hard to read on some screens.\n",
    "#The reason for the run ons is each mapping level is on the same line making checking values easier. \n",
    "love_map.education = love.education.map({'dropped out of high school': 0, 'working on high school': 0, \n",
    "                                             'high school': 1, 'dropped out of two-year college':1, 'graduated from high school':1, 'dropped out of college/university':1,\n",
    "                                             'working on two-year college':2, 'two-year college':2, 'graduated from two-year college':2,\n",
    "                                             'working on college/university':3, 'graduated from college/university':3, 'college/university':3, 'dropped out of masters program':3,\n",
    "                                             'graduated from masters program': 4, 'working on masters program':4 , 'masters program' :4, 'dropped out of ph.d program':4, 'dropped out of med school':4, 'dropped out of law school':4,\n",
    "                                             'graduated from PH/d program': 5, 'graduated from law school':5, 'working on ph.d program':5, 'working on med school':5, 'graduated from med school':5, 'working on law school':5, 'law school':5, 'ph.d program':5, 'med school':5,\n",
    "                                             'working on space camp':6, 'graduated from space camp':6, 'dropped out of space camp':6\n",
    "                                            })\n",
    "love_map.education.fillna(2, inplace = True)\n",
    "love_map.body_type = love.body_type.map({'thin':0, 'skinny':0,\n",
    "                                   'athletic': 1, 'fit' : 1, 'jacked' : 1, \n",
    "                                   'a little extra': 2, 'average': 2, 'rather not say': 2,\n",
    "                                   'used up' : 3, 'overweight' : 3, 'full figured' : 3, 'curvy' : 3\n",
    "                                  })\n",
    "love_map.body_type.fillna(2, inplace = True)\n",
    "love_map.height = love.height.apply(lambda x: love_map.height.mean() \n",
    "                                        if x <= 10\n",
    "                                        else x)\n",
    "love_map.height.fillna(love_map.height.mean(), inplace = True)\n",
    "love_map.reset_index()\n",
    "love_map['income'] = love['income']\n",
    "love_map.income.dropna(inplace = True)\n",
    "love_small = love_map[headings]\n",
    "#Verify the mapping has been properly applied.\n",
    "#print(love_map[headings].head())\n",
    "#print(love_small[~love_small.isin([np.nan, np.inf, -np.inf]).any(1)].astype(np.float64))\n",
    "for i in headings:\n",
    "    print(i, ' :', np.isnan(love_map[i]).values.sum())"
   ]
  },
  {
   "cell_type": "markdown",
   "metadata": {},
   "source": [
    "Now that the data has been mapped, the data can be broken down into test and training groups."
   ]
  },
  {
   "cell_type": "code",
   "execution_count": 120,
   "metadata": {},
   "outputs": [],
   "source": [
    "inputs = ['sex', 'orientation', 'age','smokes', 'status', 'education', 'height', 'body_type']\n",
    "label  = ['income']\n",
    "x = love_map[inputs]\n",
    "y = love_map[label]\n",
    "\n",
    "x_train, x_test, y_train, y_test = train_test_split(x, y, train_size = .8, test_size = .2)"
   ]
  },
  {
   "cell_type": "markdown",
   "metadata": {},
   "source": [
    "# Comparing the different types of machine learning\n",
    "\n",
    "The three types of machine learning that will be tested is linear regression, k nearest neighbor, and random forest. \n",
    "\n",
    "Starting with linear regression. "
   ]
  },
  {
   "cell_type": "markdown",
   "metadata": {},
   "source": [
    "### Linear Regression"
   ]
  },
  {
   "cell_type": "code",
   "execution_count": 121,
   "metadata": {},
   "outputs": [
    {
     "data": {
      "text/plain": [
       "LinearRegression()"
      ]
     },
     "execution_count": 121,
     "metadata": {},
     "output_type": "execute_result"
    }
   ],
   "source": [
    "regression = LinearRegression()\n",
    "regression.fit(x_train, y_train)"
   ]
  },
  {
   "cell_type": "code",
   "execution_count": 122,
   "metadata": {},
   "outputs": [
    {
     "data": {
      "text/plain": [
       "array([[-12499.52820546,  -3599.07049632,     27.39337176,\n",
       "          4713.87640112,   3135.33610785,   3939.02387528,\n",
       "           647.35721181,    217.92996841]])"
      ]
     },
     "execution_count": 122,
     "metadata": {},
     "output_type": "execute_result"
    }
   ],
   "source": [
    "y_predict = regression.predict(x_test)\n",
    "regression.coef_"
   ]
  },
  {
   "cell_type": "markdown",
   "metadata": {},
   "source": [
    "### K Mean "
   ]
  },
  {
   "cell_type": "code",
   "execution_count": 128,
   "metadata": {},
   "outputs": [
    {
     "name": "stdout",
     "output_type": "stream",
     "text": [
      "[20324716530870.363, 20324716530870.363, 20324716530870.363, 20324716530870.363, 20324716530870.363, 20324716530870.363, 20324716530870.363, 20324716530870.363, 20324716530870.363, 20324716530870.363, 20324716530870.363, 20324716530870.363, 20324716530870.363, 20324716530870.363, 20324716530870.363, 20324716530870.363, 20324716530870.363, 20324716530870.363, 20324716530870.363, 20324716530870.363, 20324716530870.363, 20324716530870.363, 20324716530870.363, 20324716530870.363, 20324716530870.363, 20324716530870.363, 20324716530870.363, 20324716530870.363, 20324716530870.363, 20324716530870.363, 20324716530870.363, 20324716530870.363, 20324716530870.363, 20324716530870.363, 20324716530870.363, 20324716530870.363, 20324716530870.363, 20324716530870.363, 20324716530870.363, 20324716530870.363, 20324716530870.363, 20324716530870.363, 20324716530870.363, 20324716530870.363, 20324716530870.363, 20324716530870.363, 20324716530870.363, 20324716530870.363, 20324716530870.363, 20324716530870.363, 20324716530870.363, 20324716530870.363, 20324716530870.363, 20324716530870.363, 20324716530870.363, 20324716530870.363, 20324716530870.363, 20324716530870.363, 20324716530870.363, 20324716530870.363, 20324716530870.363, 20324716530870.363, 20324716530870.363, 20324716530870.363, 20324716530870.363, 20324716530870.363, 20324716530870.363, 20324716530870.363, 20324716530870.363, 20324716530870.363, 20324716530870.363, 20324716530870.363, 20324716530870.363, 20324716530870.363, 20324716530870.363, 20324716530870.363, 20324716530870.363, 20324716530870.363, 20324716530870.363, 20324716530870.363, 20324716530870.363, 20324716530870.363, 20324716530870.363, 20324716530870.363, 20324716530870.363, 20324716530870.363, 20324716530870.363, 20324716530870.363, 20324716530870.363, 20324716530870.363, 20324716530870.363, 20324716530870.363, 20324716530870.363, 20324716530870.363, 20324716530870.363, 20324716530870.363, 20324716530870.363, 20324716530870.363, 20324716530870.363, 20324716530870.363, 20324716530870.363, 20324716530870.363, 20324716530870.363, 20324716530870.363, 20324716530870.363, 20324716530870.363, 20324716530870.363, 20324716530870.363, 20324716530870.363, 20324716530870.363, 20324716530870.363, 20324716530870.363, 20324716530870.363, 20324716530870.363, 20324716530870.363, 20324716530870.363, 20324716530870.363, 20324716530870.363, 20324716530870.363, 20324716530870.363, 20324716530870.363, 20324716530870.363, 20324716530870.363, 20324716530870.363, 20324716530870.363, 20324716530870.363, 20324716530870.363, 20324716530870.363, 20324716530870.363, 20324716530870.363, 20324716530870.363, 20324716530870.363, 20324716530870.363, 20324716530870.363, 20324716530870.363, 20324716530870.363, 20324716530870.363, 20324716530870.363, 20324716530870.363, 20324716530870.363, 20324716530870.363, 20324716530870.363, 20324716530870.363, 20324716530870.363, 20324716530870.363, 20324716530870.363, 20324716530870.363, 20324716530870.363, 20324716530870.363, 20324716530870.363, 20324716530870.363, 20324716530870.363, 20324716530870.363, 20324716530870.363, 20324716530870.363, 20324716530870.363, 20324716530870.363, 20324716530870.363, 20324716530870.363, 20324716530870.363, 20324716530870.363, 20324716530870.363, 20324716530870.363, 20324716530870.363, 20324716530870.363, 20324716530870.363, 20324716530870.363, 20324716530870.363, 20324716530870.363, 20324716530870.363, 20324716530870.363, 20324716530870.363, 20324716530870.363, 20324716530870.363, 20324716530870.363, 20324716530870.363, 20324716530870.363, 20324716530870.363, 20324716530870.363, 20324716530870.363, 20324716530870.363, 20324716530870.363, 20324716530870.363, 20324716530870.363, 20324716530870.363, 20324716530870.363, 20324716530870.363, 20324716530870.363, 20324716530870.363, 20324716530870.363, 20324716530870.363, 20324716530870.363, 20324716530870.363, 20324716530870.363, 20324716530870.363, 20324716530870.363, 20324716530870.363, 20324716530870.363, 20324716530870.363, 20324716530870.363, 20324716530870.363, 20324716530870.363, 20324716530870.363, 20324716530870.363, 20324716530870.363, 20324716530870.363, 20324716530870.363, 20324716530870.363, 20324716530870.363, 20324716530870.363, 20324716530870.363, 20324716530870.363, 20324716530870.363, 20324716530870.363, 20324716530870.363, 20324716530870.363, 20324716530870.363, 20324716530870.363, 20324716530870.363, 20324716530870.363, 20324716530870.363, 20324716530870.363, 20324716530870.363, 20324716530870.363, 20324716530870.363, 20324716530870.363, 20324716530870.363, 20324716530870.363, 20324716530870.363, 20324716530870.363, 20324716530870.363, 20324716530870.363, 20324716530870.363, 20324716530870.363, 20324716530870.363, 20324716530870.363, 20324716530870.363, 20324716530870.363, 20324716530870.363, 20324716530870.363, 20324716530870.363, 20324716530870.363, 20324716530870.363, 20324716530870.363, 20324716530870.363, 20324716530870.363, 20324716530870.363, 20324716530870.363, 20324716530870.363, 20324716530870.363, 20324716530870.363, 20324716530870.363, 20324716530870.363, 20324716530870.363, 20324716530870.363, 20324716530870.363, 20324716530870.363, 20324716530870.363, 20324716530870.363, 20324716530870.363, 20324716530870.363, 20324716530870.363, 20324716530870.363, 20324716530870.363, 20324716530870.363, 20324716530870.363, 20324716530870.363, 20324716530870.363, 20324716530870.363, 20324716530870.363, 20324716530870.363, 20324716530870.363, 20324716530870.363, 20324716530870.363, 20324716530870.363, 20324716530870.363, 20324716530870.363, 20324716530870.363, 20324716530870.363, 20324716530870.363, 20324716530870.363, 20324716530870.363, 20324716530870.363, 20324716530870.363, 20324716530870.363, 20324716530870.363, 20324716530870.363, 20324716530870.363, 20324716530870.363, 20324716530870.363, 20324716530870.363, 20324716530870.363, 20324716530870.363, 20324716530870.363, 20324716530870.363, 20324716530870.363, 20324716530870.363, 20324716530870.363, 20324716530870.363, 20324716530870.363, 20324716530870.363, 20324716530870.363, 20324716530870.363, 20324716530870.363, 20324716530870.363, 20324716530870.363, 20324716530870.363, 20324716530870.363, 20324716530870.363, 20324716530870.363, 20324716530870.363, 20324716530870.363, 20324716530870.363, 20324716530870.363, 20324716530870.363, 20324716530870.363, 20324716530870.363, 20324716530870.363, 20324716530870.363, 20324716530870.363, 20324716530870.363, 20324716530870.363, 20324716530870.363, 20324716530870.363, 20324716530870.363, 20324716530870.363, 20324716530870.363, 20324716530870.363, 20324716530870.363, 20324716530870.363, 20324716530870.363, 20324716530870.363, 20324716530870.363, 20324716530870.363, 20324716530870.363, 20324716530870.363, 20324716530870.363, 20324716530870.363, 20324716530870.363, 20324716530870.363, 20324716530870.363, 20324716530870.363, 20324716530870.363, 20324716530870.363, 20324716530870.363, 20324716530870.363, 20324716530870.363, 20324716530870.363, 20324716530870.363, 20324716530870.363, 20324716530870.363, 20324716530870.363, 20324716530870.363, 20324716530870.363, 20324716530870.363, 20324716530870.363, 20324716530870.363, 20324716530870.363, 20324716530870.363, 20324716530870.363, 20324716530870.363, 20324716530870.363, 20324716530870.363, 20324716530870.363, 20324716530870.363, 20324716530870.363, 20324716530870.363, 20324716530870.363, 20324716530870.363, 20324716530870.363, 20324716530870.363, 20324716530870.363, 20324716530870.363, 20324716530870.363, 20324716530870.363, 20324716530870.363, 20324716530870.363, 20324716530870.363, 20324716530870.363, 20324716530870.363, 20324716530870.363, 20324716530870.363, 20324716530870.363, 20324716530870.363, 20324716530870.363, 20324716530870.363, 20324716530870.363, 20324716530870.363, 20324716530870.363, 20324716530870.363, 20324716530870.363, 20324716530870.363, 20324716530870.363, 20324716530870.363, 20324716530870.363, 20324716530870.363, 20324716530870.363, 20324716530870.363, 20324716530870.363, 20324716530870.363, 20324716530870.363, 20324716530870.363, 20324716530870.363, 20324716530870.363, 20324716530870.363, 20324716530870.363, 20324716530870.363, 20324716530870.363, 20324716530870.363, 20324716530870.363, 20324716530870.363, 20324716530870.363, 20324716530870.363, 20324716530870.363, 20324716530870.363, 20324716530870.363, 20324716530870.363, 20324716530870.363, 20324716530870.363, 20324716530870.363, 20324716530870.363, 20324716530870.363, 20324716530870.363, 20324716530870.363, 20324716530870.363, 20324716530870.363, 20324716530870.363, 20324716530870.363, 20324716530870.363, 20324716530870.363, 20324716530870.363, 20324716530870.363, 20324716530870.363, 20324716530870.363, 20324716530870.363, 20324716530870.363, 20324716530870.363, 20324716530870.363, 20324716530870.363, 20324716530870.363, 20324716530870.363, 20324716530870.363, 20324716530870.363, 20324716530870.363, 20324716530870.363, 20324716530870.363, 20324716530870.363, 20324716530870.363, 20324716530870.363, 20324716530870.363, 20324716530870.363, 20324716530870.363, 20324716530870.363, 20324716530870.363, 20324716530870.363, 20324716530870.363, 20324716530870.363, 20324716530870.363, 20324716530870.363, 20324716530870.363, 20324716530870.363, 20324716530870.363, 20324716530870.363, 20324716530870.363, 20324716530870.363, 20324716530870.363, 20324716530870.363, 20324716530870.363, 20324716530870.363, 20324716530870.363, 20324716530870.363, 20324716530870.363, 20324716530870.363, 20324716530870.363, 20324716530870.363, 20324716530870.363, 20324716530870.363, 20324716530870.363, 20324716530870.363, 20324716530870.363, 20324716530870.363, 20324716530870.363, 20324716530870.363, 20324716530870.363, 20324716530870.363, 20324716530870.363, 20324716530870.363, 20324716530870.363, 20324716530870.363, 20324716530870.363, 20324716530870.363, 20324716530870.363, 20324716530870.363, 20324716530870.363, 20324716530870.363, 20324716530870.363, 20324716530870.363, 20324716530870.363, 20324716530870.363, 20324716530870.363, 20324716530870.363, 20324716530870.363, 20324716530870.363, 20324716530870.363, 20324716530870.363, 20324716530870.363, 20324716530870.363, 20324716530870.363, 20324716530870.363, 20324716530870.363, 20324716530870.363, 20324716530870.363, 20324716530870.363, 20324716530870.363, 20324716530870.363, 20324716530870.363, 20324716530870.363, 20324716530870.363, 20324716530870.363, 20324716530870.363, 20324716530870.363, 20324716530870.363, 20324716530870.363, 20324716530870.363, 20324716530870.363, 20324716530870.363, 20324716530870.363, 20324716530870.363, 20324716530870.363, 20324716530870.363, 20324716530870.363, 20324716530870.363, 20324716530870.363, 20324716530870.363, 20324716530870.363, 20324716530870.363, 20324716530870.363, 20324716530870.363, 20324716530870.363, 20324716530870.363, 20324716530870.363, 20324716530870.363, 20324716530870.363, 20324716530870.363, 20324716530870.363, 20324716530870.363, 20324716530870.363, 20324716530870.363, 20324716530870.363, 20324716530870.363, 20324716530870.363, 20324716530870.363, 20324716530870.363, 20324716530870.363, 20324716530870.363, 20324716530870.363, 20324716530870.363, 20324716530870.363, 20324716530870.363, 20324716530870.363, 20324716530870.363, 20324716530870.363, 20324716530870.363, 20324716530870.363, 20324716530870.363, 20324716530870.363, 20324716530870.363, 20324716530870.363, 20324716530870.363, 20324716530870.363, 20324716530870.363, 20324716530870.363, 20324716530870.363, 20324716530870.363, 20324716530870.363, 20324716530870.363, 20324716530870.363, 20324716530870.363, 20324716530870.363, 20324716530870.363, 20324716530870.363, 20324716530870.363, 20324716530870.363, 20324716530870.363, 20324716530870.363, 20324716530870.363, 20324716530870.363, 20324716530870.363, 20324716530870.363, 20324716530870.363, 20324716530870.363, 20324716530870.363, 20324716530870.363, 20324716530870.363, 20324716530870.363, 20324716530870.363, 20324716530870.363, 20324716530870.363, 20324716530870.363, 20324716530870.363, 20324716530870.363, 20324716530870.363, 20324716530870.363, 20324716530870.363, 20324716530870.363, 20324716530870.363, 20324716530870.363, 20324716530870.363, 20324716530870.363, 20324716530870.363, 20324716530870.363, 20324716530870.363, 20324716530870.363, 20324716530870.363, 20324716530870.363, 20324716530870.363, 20324716530870.363, 20324716530870.363, 20324716530870.363, 20324716530870.363, 20324716530870.363, 20324716530870.363, 20324716530870.363, 20324716530870.363, 20324716530870.363, 20324716530870.363, 20324716530870.363, 20324716530870.363, 20324716530870.363, 20324716530870.363, 20324716530870.363, 20324716530870.363, 20324716530870.363, 20324716530870.363, 20324716530870.363, 20324716530870.363, 20324716530870.363, 20324716530870.363, 20324716530870.363, 20324716530870.363, 20324716530870.363, 20324716530870.363, 20324716530870.363, 20324716530870.363, 20324716530870.363, 20324716530870.363, 20324716530870.363, 20324716530870.363, 20324716530870.363, 20324716530870.363, 20324716530870.363, 20324716530870.363, 20324716530870.363, 20324716530870.363, 20324716530870.363, 20324716530870.363, 20324716530870.363, 20324716530870.363, 20324716530870.363, 20324716530870.363, 20324716530870.363, 20324716530870.363, 20324716530870.363, 20324716530870.363, 20324716530870.363, 20324716530870.363, 20324716530870.363, 20324716530870.363, 20324716530870.363, 20324716530870.363, 20324716530870.363, 20324716530870.363, 20324716530870.363, 20324716530870.363, 20324716530870.363, 20324716530870.363, 20324716530870.363, 20324716530870.363, 20324716530870.363, 20324716530870.363, 20324716530870.363, 20324716530870.363, 20324716530870.363, 20324716530870.363, 20324716530870.363, 20324716530870.363, 20324716530870.363, 20324716530870.363, 20324716530870.363, 20324716530870.363, 20324716530870.363, 20324716530870.363, 20324716530870.363, 20324716530870.363, 20324716530870.363, 20324716530870.363, 20324716530870.363, 20324716530870.363, 20324716530870.363, 20324716530870.363, 20324716530870.363, 20324716530870.363, 20324716530870.363, 20324716530870.363, 20324716530870.363, 20324716530870.363, 20324716530870.363, 20324716530870.363, 20324716530870.363, 20324716530870.363, 20324716530870.363, 20324716530870.363, 20324716530870.363, 20324716530870.363, 20324716530870.363, 20324716530870.363, 20324716530870.363, 20324716530870.363, 20324716530870.363, 20324716530870.363, 20324716530870.363, 20324716530870.363, 20324716530870.363, 20324716530870.363, 20324716530870.363, 20324716530870.363, 20324716530870.363, 20324716530870.363, 20324716530870.363, 20324716530870.363, 20324716530870.363, 20324716530870.363, 20324716530870.363, 20324716530870.363, 20324716530870.363, 20324716530870.363, 20324716530870.363, 20324716530870.363, 20324716530870.363, 20324716530870.363, 20324716530870.363, 20324716530870.363, 20324716530870.363, 20324716530870.363, 20324716530870.363, 20324716530870.363, 20324716530870.363, 20324716530870.363, 20324716530870.363, 20324716530870.363, 20324716530870.363, 20324716530870.363, 20324716530870.363, 20324716530870.363, 20324716530870.363, 20324716530870.363, 20324716530870.363, 20324716530870.363, 20324716530870.363, 20324716530870.363, 20324716530870.363, 20324716530870.363, 20324716530870.363, 20324716530870.363, 20324716530870.363, 20324716530870.363, 20324716530870.363, 20324716530870.363, 20324716530870.363, 20324716530870.363, 20324716530870.363, 20324716530870.363, 20324716530870.363, 20324716530870.363, 20324716530870.363, 20324716530870.363, 20324716530870.363, 20324716530870.363, 20324716530870.363, 20324716530870.363, 20324716530870.363, 20324716530870.363, 20324716530870.363, 20324716530870.363, 20324716530870.363, 20324716530870.363, 20324716530870.363, 20324716530870.363, 20324716530870.363, 20324716530870.363, 20324716530870.363, 20324716530870.363, 20324716530870.363, 20324716530870.363, 20324716530870.363, 20324716530870.363, 20324716530870.363, 20324716530870.363, 20324716530870.363, 20324716530870.363, 20324716530870.363, 20324716530870.363, 20324716530870.363, 20324716530870.363, 20324716530870.363, 20324716530870.363, 20324716530870.363, 20324716530870.363, 20324716530870.363, 20324716530870.363, 20324716530870.363, 20324716530870.363, 20324716530870.363, 20324716530870.363, 20324716530870.363, 20324716530870.363, 20324716530870.363, 20324716530870.363, 20324716530870.363, 20324716530870.363, 20324716530870.363, 20324716530870.363, 20324716530870.363, 20324716530870.363, 20324716530870.363, 20324716530870.363, 20324716530870.363, 20324716530870.363, 20324716530870.363, 20324716530870.363, 20324716530870.363, 20324716530870.363, 20324716530870.363, 20324716530870.363, 20324716530870.363, 20324716530870.363, 20324716530870.363, 20324716530870.363, 20324716530870.363, 20324716530870.363, 20324716530870.363, 20324716530870.363, 20324716530870.363, 20324716530870.363, 20324716530870.363, 20324716530870.363, 20324716530870.363, 20324716530870.363, 20324716530870.363, 20324716530870.363, 20324716530870.363, 20324716530870.363, 20324716530870.363, 20324716530870.363, 20324716530870.363, 20324716530870.363, 20324716530870.363, 20324716530870.363, 20324716530870.363, 20324716530870.363, 20324716530870.363, 20324716530870.363, 20324716530870.363, 20324716530870.363, 20324716530870.363, 20324716530870.363, 20324716530870.363, 20324716530870.363, 20324716530870.363, 20324716530870.363, 20324716530870.363, 20324716530870.363, 20324716530870.363, 20324716530870.363, 20324716530870.363, 20324716530870.363, 20324716530870.363, 20324716530870.363, 20324716530870.363, 20324716530870.363, 20324716530870.363, 20324716530870.363, 20324716530870.363, 20324716530870.363, 20324716530870.363, 20324716530870.363, 20324716530870.363, 20324716530870.363, 20324716530870.363, 20324716530870.363, 20324716530870.363, 20324716530870.363, 20324716530870.363, 20324716530870.363, 20324716530870.363, 20324716530870.363, 20324716530870.363, 20324716530870.363, 20324716530870.363, 20324716530870.363, 20324716530870.363, 20324716530870.363, 20324716530870.363, 20324716530870.363, 20324716530870.363, 20324716530870.363, 20324716530870.363, 20324716530870.363, 20324716530870.363, 20324716530870.363, 20324716530870.363, 20324716530870.363, 20324716530870.363, 20324716530870.363, 20324716530870.363, 20324716530870.363, 20324716530870.363, 20324716530870.363, 20324716530870.363, 20324716530870.363, 20324716530870.363, 20324716530870.363, 20324716530870.363, 20324716530870.363, 20324716530870.363, 20324716530870.363, 20324716530870.363, 20324716530870.363, 20324716530870.363, 20324716530870.363, 20324716530870.363, 20324716530870.363, 20324716530870.363, 20324716530870.363, 20324716530870.363, 20324716530870.363, 20324716530870.363, 20324716530870.363, 20324716530870.363, 20324716530870.363, 20324716530870.363, 20324716530870.363, 20324716530870.363, 20324716530870.363, 20324716530870.363, 20324716530870.363, 20324716530870.363, 20324716530870.363, 20324716530870.363, 20324716530870.363, 20324716530870.363, 20324716530870.363, 20324716530870.363, 20324716530870.363, 20324716530870.363, 20324716530870.363, 20324716530870.363, 20324716530870.363, 20324716530870.363, 20324716530870.363, 20324716530870.363, 20324716530870.363, 20324716530870.363, 20324716530870.363, 20324716530870.363, 20324716530870.363, 20324716530870.363, 20324716530870.363, 20324716530870.363, 20324716530870.363, 20324716530870.363, 20324716530870.363, 20324716530870.363, 20324716530870.363, 20324716530870.363, 20324716530870.363, 20324716530870.363, 20324716530870.363, 20324716530870.363, 20324716530870.363, 20324716530870.363, 20324716530870.363, 20324716530870.363, 20324716530870.363, 20324716530870.363, 20324716530870.363, 20324716530870.363, 20324716530870.363, 20324716530870.363, 20324716530870.363, 20324716530870.363, 20324716530870.363, 20324716530870.363, 20324716530870.363, 20324716530870.363, 20324716530870.363, 20324716530870.363, 20324716530870.363, 20324716530870.363]\n"
     ]
    },
    {
     "data": {
      "image/png": "[encoded data removed]",
      "text/plain": [
       "<Figure size 432x288 with 1 Axes>"
      ]
     },
     "metadata": {
      "needs_background": "light"
     },
     "output_type": "display_data"
    },
    {
     "data": {
      "text/plain": [
       "<Figure size 432x288 with 0 Axes>"
      ]
     },
     "metadata": {},
     "output_type": "display_data"
    }
   ],
   "source": [
    "k_list = list(range(1,1000))\n",
    "inertia = []\n",
    "for i in k_list:\n",
    "    k_mean = KMeans(n_clusters=3, init='k-means++')\n",
    "    k_mean.fit(love_small)\n",
    "    inertia.append(k_mean.inertia_)\n",
    "\n",
    "\n",
    "plt.plot(inertia)\n",
    "plt.show()\n",
    "plt.clf()"
   ]
  },
  {
   "cell_type": "code",
   "execution_count": null,
   "metadata": {},
   "outputs": [],
   "source": []
  }
 ],
 "metadata": {
  "kernelspec": {
   "display_name": "Python 3",
   "language": "python",
   "name": "python3"
  },
  "language_info": {
   "codemirror_mode": {
    "name": "ipython",
    "version": 3
   },
   "file_extension": ".py",
   "mimetype": "text/x-python",
   "name": "python",
   "nbconvert_exporter": "python",
   "pygments_lexer": "ipython3",
   "version": "3.8.5"
  }
 },
 "nbformat": 4,
 "nbformat_minor": 4
}
