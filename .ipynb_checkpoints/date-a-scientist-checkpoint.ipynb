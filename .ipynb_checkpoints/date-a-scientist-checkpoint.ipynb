{
 "cells": [
  {
   "cell_type": "code",
   "execution_count": 1,
   "metadata": {},
   "outputs": [],
   "source": [
    "import numpy as np\n",
    "import pandas as pd\n",
    "import matplotlib.pyplot as plt\n",
    "from sklearn.model_selection import train_test_split\n",
    "from sklearn.ensemble import RandomForestClassifier\n",
    "from sklearn.ensemble import RandomForestRegressor\n",
    "from sklearn.linear_model import LinearRegression\n",
    "from sklearn.neighbors import KNeighborsRegressor\n",
    "from scipy import stats\n",
    "from itertools import combinations\n",
    "from sklearn.preprocessing import RobustScaler\n",
    "from sklearn.preprocessing import LabelEncoder"
   ]
  },
  {
   "cell_type": "markdown",
   "metadata": {},
   "source": [
    "# Introduction\n",
    "The data set is part of CodeCademies Data-A-Scientist project that was provided by Okay Cupid. The goal of the project is to use different linear regression and machine learning models to make predictions about different preferences or characteristics of individuals who signed up for Okay Cupid. \n",
    "\n",
    "To start the project, I import the profile data from a CSV. I then will discuss the shape of the data, missing values, and work on cleaning up the data. But first, I will take a high level look at the data and see if I can come up with a question that can be solved using machine learning (ML). "
   ]
  },
  {
   "cell_type": "code",
   "execution_count": 2,
   "metadata": {},
   "outputs": [
    {
     "data": {
      "text/html": [
       "<div>\n",
       "<style scoped>\n",
       "    .dataframe tbody tr th:only-of-type {\n",
       "        vertical-align: middle;\n",
       "    }\n",
       "\n",
       "    .dataframe tbody tr th {\n",
       "        vertical-align: top;\n",
       "    }\n",
       "\n",
       "    .dataframe thead th {\n",
       "        text-align: right;\n",
       "    }\n",
       "</style>\n",
       "<table border=\"1\" class=\"dataframe\">\n",
       "  <thead>\n",
       "    <tr style=\"text-align: right;\">\n",
       "      <th></th>\n",
       "      <th>age</th>\n",
       "      <th>body_type</th>\n",
       "      <th>diet</th>\n",
       "      <th>drinks</th>\n",
       "      <th>drugs</th>\n",
       "      <th>education</th>\n",
       "      <th>essay0</th>\n",
       "      <th>essay1</th>\n",
       "      <th>essay2</th>\n",
       "      <th>essay3</th>\n",
       "      <th>...</th>\n",
       "      <th>location</th>\n",
       "      <th>offspring</th>\n",
       "      <th>orientation</th>\n",
       "      <th>pets</th>\n",
       "      <th>religion</th>\n",
       "      <th>sex</th>\n",
       "      <th>sign</th>\n",
       "      <th>smokes</th>\n",
       "      <th>speaks</th>\n",
       "      <th>status</th>\n",
       "    </tr>\n",
       "  </thead>\n",
       "  <tbody>\n",
       "    <tr>\n",
       "      <th>0</th>\n",
       "      <td>22</td>\n",
       "      <td>a little extra</td>\n",
       "      <td>strictly anything</td>\n",
       "      <td>socially</td>\n",
       "      <td>never</td>\n",
       "      <td>working on college/university</td>\n",
       "      <td>about me:&lt;br /&gt;\\n&lt;br /&gt;\\ni would love to think...</td>\n",
       "      <td>currently working as an international agent fo...</td>\n",
       "      <td>making people laugh.&lt;br /&gt;\\nranting about a go...</td>\n",
       "      <td>the way i look. i am a six foot half asian, ha...</td>\n",
       "      <td>...</td>\n",
       "      <td>south san francisco, california</td>\n",
       "      <td>doesn&amp;rsquo;t have kids, but might want them</td>\n",
       "      <td>straight</td>\n",
       "      <td>likes dogs and likes cats</td>\n",
       "      <td>agnosticism and very serious about it</td>\n",
       "      <td>m</td>\n",
       "      <td>gemini</td>\n",
       "      <td>sometimes</td>\n",
       "      <td>english</td>\n",
       "      <td>single</td>\n",
       "    </tr>\n",
       "    <tr>\n",
       "      <th>1</th>\n",
       "      <td>35</td>\n",
       "      <td>average</td>\n",
       "      <td>mostly other</td>\n",
       "      <td>often</td>\n",
       "      <td>sometimes</td>\n",
       "      <td>working on space camp</td>\n",
       "      <td>i am a chef: this is what that means.&lt;br /&gt;\\n1...</td>\n",
       "      <td>dedicating everyday to being an unbelievable b...</td>\n",
       "      <td>being silly. having ridiculous amonts of fun w...</td>\n",
       "      <td>NaN</td>\n",
       "      <td>...</td>\n",
       "      <td>oakland, california</td>\n",
       "      <td>doesn&amp;rsquo;t have kids, but might want them</td>\n",
       "      <td>straight</td>\n",
       "      <td>likes dogs and likes cats</td>\n",
       "      <td>agnosticism but not too serious about it</td>\n",
       "      <td>m</td>\n",
       "      <td>cancer</td>\n",
       "      <td>no</td>\n",
       "      <td>english (fluently), spanish (poorly), french (...</td>\n",
       "      <td>single</td>\n",
       "    </tr>\n",
       "    <tr>\n",
       "      <th>2</th>\n",
       "      <td>38</td>\n",
       "      <td>thin</td>\n",
       "      <td>anything</td>\n",
       "      <td>socially</td>\n",
       "      <td>NaN</td>\n",
       "      <td>graduated from masters program</td>\n",
       "      <td>i'm not ashamed of much, but writing public te...</td>\n",
       "      <td>i make nerdy software for musicians, artists, ...</td>\n",
       "      <td>improvising in different contexts. alternating...</td>\n",
       "      <td>my large jaw and large glasses are the physica...</td>\n",
       "      <td>...</td>\n",
       "      <td>san francisco, california</td>\n",
       "      <td>NaN</td>\n",
       "      <td>straight</td>\n",
       "      <td>has cats</td>\n",
       "      <td>NaN</td>\n",
       "      <td>m</td>\n",
       "      <td>pisces but it doesn&amp;rsquo;t matter</td>\n",
       "      <td>no</td>\n",
       "      <td>english, french, c++</td>\n",
       "      <td>available</td>\n",
       "    </tr>\n",
       "    <tr>\n",
       "      <th>3</th>\n",
       "      <td>23</td>\n",
       "      <td>thin</td>\n",
       "      <td>vegetarian</td>\n",
       "      <td>socially</td>\n",
       "      <td>NaN</td>\n",
       "      <td>working on college/university</td>\n",
       "      <td>i work in a library and go to school. . .</td>\n",
       "      <td>reading things written by old dead people</td>\n",
       "      <td>playing synthesizers and organizing books acco...</td>\n",
       "      <td>socially awkward but i do my best</td>\n",
       "      <td>...</td>\n",
       "      <td>berkeley, california</td>\n",
       "      <td>doesn&amp;rsquo;t want kids</td>\n",
       "      <td>straight</td>\n",
       "      <td>likes cats</td>\n",
       "      <td>NaN</td>\n",
       "      <td>m</td>\n",
       "      <td>pisces</td>\n",
       "      <td>no</td>\n",
       "      <td>english, german (poorly)</td>\n",
       "      <td>single</td>\n",
       "    </tr>\n",
       "    <tr>\n",
       "      <th>4</th>\n",
       "      <td>29</td>\n",
       "      <td>athletic</td>\n",
       "      <td>NaN</td>\n",
       "      <td>socially</td>\n",
       "      <td>never</td>\n",
       "      <td>graduated from college/university</td>\n",
       "      <td>hey how's it going? currently vague on the pro...</td>\n",
       "      <td>work work work work + play</td>\n",
       "      <td>creating imagery to look at:&lt;br /&gt;\\nhttp://bag...</td>\n",
       "      <td>i smile a lot and my inquisitive nature</td>\n",
       "      <td>...</td>\n",
       "      <td>san francisco, california</td>\n",
       "      <td>NaN</td>\n",
       "      <td>straight</td>\n",
       "      <td>likes dogs and likes cats</td>\n",
       "      <td>NaN</td>\n",
       "      <td>m</td>\n",
       "      <td>aquarius</td>\n",
       "      <td>no</td>\n",
       "      <td>english</td>\n",
       "      <td>single</td>\n",
       "    </tr>\n",
       "  </tbody>\n",
       "</table>\n",
       "<p>5 rows × 31 columns</p>\n",
       "</div>"
      ],
      "text/plain": [
       "   age       body_type               diet    drinks      drugs  \\\n",
       "0   22  a little extra  strictly anything  socially      never   \n",
       "1   35         average       mostly other     often  sometimes   \n",
       "2   38            thin           anything  socially        NaN   \n",
       "3   23            thin         vegetarian  socially        NaN   \n",
       "4   29        athletic                NaN  socially      never   \n",
       "\n",
       "                           education  \\\n",
       "0      working on college/university   \n",
       "1              working on space camp   \n",
       "2     graduated from masters program   \n",
       "3      working on college/university   \n",
       "4  graduated from college/university   \n",
       "\n",
       "                                              essay0  \\\n",
       "0  about me:<br />\\n<br />\\ni would love to think...   \n",
       "1  i am a chef: this is what that means.<br />\\n1...   \n",
       "2  i'm not ashamed of much, but writing public te...   \n",
       "3          i work in a library and go to school. . .   \n",
       "4  hey how's it going? currently vague on the pro...   \n",
       "\n",
       "                                              essay1  \\\n",
       "0  currently working as an international agent fo...   \n",
       "1  dedicating everyday to being an unbelievable b...   \n",
       "2  i make nerdy software for musicians, artists, ...   \n",
       "3          reading things written by old dead people   \n",
       "4                         work work work work + play   \n",
       "\n",
       "                                              essay2  \\\n",
       "0  making people laugh.<br />\\nranting about a go...   \n",
       "1  being silly. having ridiculous amonts of fun w...   \n",
       "2  improvising in different contexts. alternating...   \n",
       "3  playing synthesizers and organizing books acco...   \n",
       "4  creating imagery to look at:<br />\\nhttp://bag...   \n",
       "\n",
       "                                              essay3  ...  \\\n",
       "0  the way i look. i am a six foot half asian, ha...  ...   \n",
       "1                                                NaN  ...   \n",
       "2  my large jaw and large glasses are the physica...  ...   \n",
       "3                  socially awkward but i do my best  ...   \n",
       "4            i smile a lot and my inquisitive nature  ...   \n",
       "\n",
       "                          location  \\\n",
       "0  south san francisco, california   \n",
       "1              oakland, california   \n",
       "2        san francisco, california   \n",
       "3             berkeley, california   \n",
       "4        san francisco, california   \n",
       "\n",
       "                                      offspring orientation  \\\n",
       "0  doesn&rsquo;t have kids, but might want them    straight   \n",
       "1  doesn&rsquo;t have kids, but might want them    straight   \n",
       "2                                           NaN    straight   \n",
       "3                       doesn&rsquo;t want kids    straight   \n",
       "4                                           NaN    straight   \n",
       "\n",
       "                        pets                                  religion sex  \\\n",
       "0  likes dogs and likes cats     agnosticism and very serious about it   m   \n",
       "1  likes dogs and likes cats  agnosticism but not too serious about it   m   \n",
       "2                   has cats                                       NaN   m   \n",
       "3                 likes cats                                       NaN   m   \n",
       "4  likes dogs and likes cats                                       NaN   m   \n",
       "\n",
       "                                 sign     smokes  \\\n",
       "0                              gemini  sometimes   \n",
       "1                              cancer         no   \n",
       "2  pisces but it doesn&rsquo;t matter         no   \n",
       "3                              pisces         no   \n",
       "4                            aquarius         no   \n",
       "\n",
       "                                              speaks     status  \n",
       "0                                            english     single  \n",
       "1  english (fluently), spanish (poorly), french (...     single  \n",
       "2                               english, french, c++  available  \n",
       "3                           english, german (poorly)     single  \n",
       "4                                            english     single  \n",
       "\n",
       "[5 rows x 31 columns]"
      ]
     },
     "execution_count": 2,
     "metadata": {},
     "output_type": "execute_result"
    }
   ],
   "source": [
    "love = pd.read_csv('profiles.csv')\n",
    "love.head(5)"
   ]
  },
  {
   "cell_type": "code",
   "execution_count": 3,
   "metadata": {},
   "outputs": [
    {
     "data": {
      "text/html": [
       "<div>\n",
       "<style scoped>\n",
       "    .dataframe tbody tr th:only-of-type {\n",
       "        vertical-align: middle;\n",
       "    }\n",
       "\n",
       "    .dataframe tbody tr th {\n",
       "        vertical-align: top;\n",
       "    }\n",
       "\n",
       "    .dataframe thead th {\n",
       "        text-align: right;\n",
       "    }\n",
       "</style>\n",
       "<table border=\"1\" class=\"dataframe\">\n",
       "  <thead>\n",
       "    <tr style=\"text-align: right;\">\n",
       "      <th></th>\n",
       "      <th>ethnicity</th>\n",
       "      <th>job</th>\n",
       "      <th>height</th>\n",
       "    </tr>\n",
       "  </thead>\n",
       "  <tbody>\n",
       "    <tr>\n",
       "      <th>0</th>\n",
       "      <td>asian, white</td>\n",
       "      <td>transportation</td>\n",
       "      <td>75.0</td>\n",
       "    </tr>\n",
       "    <tr>\n",
       "      <th>1</th>\n",
       "      <td>white</td>\n",
       "      <td>hospitality / travel</td>\n",
       "      <td>70.0</td>\n",
       "    </tr>\n",
       "    <tr>\n",
       "      <th>2</th>\n",
       "      <td>NaN</td>\n",
       "      <td>NaN</td>\n",
       "      <td>68.0</td>\n",
       "    </tr>\n",
       "    <tr>\n",
       "      <th>3</th>\n",
       "      <td>white</td>\n",
       "      <td>student</td>\n",
       "      <td>71.0</td>\n",
       "    </tr>\n",
       "    <tr>\n",
       "      <th>4</th>\n",
       "      <td>asian, black, other</td>\n",
       "      <td>artistic / musical / writer</td>\n",
       "      <td>66.0</td>\n",
       "    </tr>\n",
       "    <tr>\n",
       "      <th>...</th>\n",
       "      <td>...</td>\n",
       "      <td>...</td>\n",
       "      <td>...</td>\n",
       "    </tr>\n",
       "    <tr>\n",
       "      <th>59941</th>\n",
       "      <td>NaN</td>\n",
       "      <td>sales / marketing / biz dev</td>\n",
       "      <td>62.0</td>\n",
       "    </tr>\n",
       "    <tr>\n",
       "      <th>59942</th>\n",
       "      <td>white, other</td>\n",
       "      <td>entertainment / media</td>\n",
       "      <td>72.0</td>\n",
       "    </tr>\n",
       "    <tr>\n",
       "      <th>59943</th>\n",
       "      <td>asian</td>\n",
       "      <td>construction / craftsmanship</td>\n",
       "      <td>71.0</td>\n",
       "    </tr>\n",
       "    <tr>\n",
       "      <th>59944</th>\n",
       "      <td>asian, black</td>\n",
       "      <td>medicine / health</td>\n",
       "      <td>73.0</td>\n",
       "    </tr>\n",
       "    <tr>\n",
       "      <th>59945</th>\n",
       "      <td>white</td>\n",
       "      <td>medicine / health</td>\n",
       "      <td>68.0</td>\n",
       "    </tr>\n",
       "  </tbody>\n",
       "</table>\n",
       "<p>59946 rows × 3 columns</p>\n",
       "</div>"
      ],
      "text/plain": [
       "                 ethnicity                           job  height\n",
       "0             asian, white                transportation    75.0\n",
       "1                    white          hospitality / travel    70.0\n",
       "2                      NaN                           NaN    68.0\n",
       "3                    white                       student    71.0\n",
       "4      asian, black, other   artistic / musical / writer    66.0\n",
       "...                    ...                           ...     ...\n",
       "59941                  NaN   sales / marketing / biz dev    62.0\n",
       "59942         white, other         entertainment / media    72.0\n",
       "59943                asian  construction / craftsmanship    71.0\n",
       "59944         asian, black             medicine / health    73.0\n",
       "59945                white             medicine / health    68.0\n",
       "\n",
       "[59946 rows x 3 columns]"
      ]
     },
     "execution_count": 3,
     "metadata": {},
     "output_type": "execute_result"
    }
   ],
   "source": [
    "love[['ethnicity','job', 'height']]"
   ]
  },
  {
   "cell_type": "code",
   "execution_count": 6,
   "metadata": {},
   "outputs": [
    {
     "name": "stdout",
     "output_type": "stream",
     "text": [
      "<class 'pandas.core.frame.DataFrame'>\n",
      "RangeIndex: 59946 entries, 0 to 59945\n",
      "Data columns (total 31 columns):\n",
      " #   Column       Non-Null Count  Dtype  \n",
      "---  ------       --------------  -----  \n",
      " 0   age          59946 non-null  int64  \n",
      " 1   body_type    54650 non-null  object \n",
      " 2   diet         35551 non-null  object \n",
      " 3   drinks       56961 non-null  object \n",
      " 4   drugs        45866 non-null  object \n",
      " 5   education    53318 non-null  object \n",
      " 6   essay0       54458 non-null  object \n",
      " 7   essay1       52374 non-null  object \n",
      " 8   essay2       50308 non-null  object \n",
      " 9   essay3       48470 non-null  object \n",
      " 10  essay4       49409 non-null  object \n",
      " 11  essay5       49096 non-null  object \n",
      " 12  essay6       46175 non-null  object \n",
      " 13  essay7       47495 non-null  object \n",
      " 14  essay8       40721 non-null  object \n",
      " 15  essay9       47343 non-null  object \n",
      " 16  ethnicity    54266 non-null  object \n",
      " 17  height       59943 non-null  float64\n",
      " 18  income       59946 non-null  int64  \n",
      " 19  job          51748 non-null  object \n",
      " 20  last_online  59946 non-null  object \n",
      " 21  location     59946 non-null  object \n",
      " 22  offspring    24385 non-null  object \n",
      " 23  orientation  59946 non-null  object \n",
      " 24  pets         40025 non-null  object \n",
      " 25  religion     39720 non-null  object \n",
      " 26  sex          59946 non-null  object \n",
      " 27  sign         48890 non-null  object \n",
      " 28  smokes       54434 non-null  object \n",
      " 29  speaks       59896 non-null  object \n",
      " 30  status       59946 non-null  object \n",
      "dtypes: float64(1), int64(2), object(28)\n",
      "memory usage: 14.2+ MB\n"
     ]
    }
   ],
   "source": [
    "love.info()"
   ]
  },
  {
   "cell_type": "code",
   "execution_count": 4,
   "metadata": {},
   "outputs": [
    {
     "data": {
      "text/plain": [
       "age               54\n",
       "body_type         12\n",
       "diet              18\n",
       "drinks             6\n",
       "drugs              3\n",
       "education         32\n",
       "essay0         54350\n",
       "essay1         51516\n",
       "essay2         48635\n",
       "essay3         43533\n",
       "essay4         49260\n",
       "essay5         48963\n",
       "essay6         43603\n",
       "essay7         45554\n",
       "essay8         39324\n",
       "essay9         45443\n",
       "ethnicity        217\n",
       "height            60\n",
       "income            13\n",
       "job               21\n",
       "last_online    30123\n",
       "location         199\n",
       "offspring         15\n",
       "orientation        3\n",
       "pets              15\n",
       "religion          45\n",
       "sex                2\n",
       "sign              48\n",
       "smokes             5\n",
       "speaks          7647\n",
       "status             5\n",
       "dtype: int64"
      ]
     },
     "execution_count": 4,
     "metadata": {},
     "output_type": "execute_result"
    }
   ],
   "source": [
    "love.nunique()"
   ]
  },
  {
   "cell_type": "code",
   "execution_count": 5,
   "metadata": {},
   "outputs": [
    {
     "data": {
      "image/png": "[encoded data removed]",
      "text/plain": [
       "<Figure size 432x288 with 1 Axes>"
      ]
     },
     "metadata": {
      "needs_background": "light"
     },
     "output_type": "display_data"
    },
    {
     "data": {
      "image/png": "[encoded data removed]",
      "text/plain": [
       "<Figure size 432x288 with 1 Axes>"
      ]
     },
     "metadata": {
      "needs_background": "light"
     },
     "output_type": "display_data"
    },
    {
     "data": {
      "text/plain": [
       "<Figure size 432x288 with 0 Axes>"
      ]
     },
     "metadata": {},
     "output_type": "display_data"
    }
   ],
   "source": [
    "plt.hist(love.income, bins = 100)\n",
    "plt.show()\n",
    "plt.clf()\n",
    "\n",
    "plt.hist(love.income, bins = 100, range = (250000,1000000))\n",
    "plt.show()\n",
    "plt.clf()"
   ]
  },
  {
   "cell_type": "markdown",
   "metadata": {},
   "source": [
    "So after spending ten hours trying to come up with different predictive models, I kept having issues with getting my different predictive models to come up with any real predictions on income. I decided to do a little more data exploration. Looking at the distribution of incomes, the vast majority of the incomes are -1. Doing a quick percentage calculation, -1 makes up 80% of the data. This explains why my scores were really low during testing and fitting. \n",
    "\n",
    "To take care of this isue and keep the work I have done up to this point, I am going to cleanse the data of the -1, and use the provided values. There wouldn't be a good way to replace the -1 data without causing major biases in the data. "
   ]
  },
  {
   "cell_type": "code",
   "execution_count": 6,
   "metadata": {},
   "outputs": [
    {
     "name": "stdout",
     "output_type": "stream",
     "text": [
      "-1          80.809395\n",
      " 20000       4.924432\n",
      " 100000      2.704100\n",
      " 80000       1.853335\n",
      " 30000       1.748240\n",
      " 40000       1.676509\n",
      " 50000       1.626464\n",
      " 60000       1.227772\n",
      " 70000       1.179395\n",
      " 150000      1.052614\n",
      " 1000000     0.869116\n",
      " 250000      0.248557\n",
      " 500000      0.080072\n",
      "Name: income, dtype: float64\n"
     ]
    }
   ],
   "source": [
    "print(love.income.value_counts()/len(love.income)*100)"
   ]
  },
  {
   "cell_type": "markdown",
   "metadata": {},
   "source": [
    "After reviewing the data, an interesting question would be to see if income can be predicted based on education, body type, smoking, diet, and sign. I will test three different methods of determining the best way to predict income. I'll be using a linear regression, k nearest neighbor, and random forest. Each method will be graded on the others based on the option that is best for predicting income. \n",
    "\n",
    "Much of the data is not in a numerical format and needs to be mapped to something that a machine learning algorithm can analyze. To start, I list out the unique values to check for mapping that has a scale. The zodiac signs does not easily allow for converting to a numerical scale. I'll remove that data from the set. \n",
    "\n",
    "For sex, I will convert to a 1 for male and 0 for female. \n",
    "\n",
    "For sexual orientation, I will convert to a 0 is straight, 1 is bisexual, and 2 is gay. \n",
    "\n",
    "For drinking, I will convert 'no' to 0, 'sometimes' to 1, 'when drinking' to 2, 'yes' to 2, and 'trying to quit' to 3. I am combining the 'when drinking' and 'yes' as those responses are similar. There is a fair amount of nan values that I am going to fill with the rounded average of the responses. \n",
    "\n",
    "For status, I will convert 'single' to 0, 'available' to 1, 'seeing someone' to 2, 'married' to 3, and 'unknown' to 4. \n",
    "\n",
    "For school, there will be more work to group the levels. To simplify the data, it will be broken down into five buckets from  didn't finish high school, high school, associates, bachelors, masters, doctors, and space camp. If someone started a program but didn't finish - they will be dropped down the lower level. Those working on a level will be considered the next level down. The following will be the groupings:\n",
    "\n",
    "    No high school: 'dropped out of high school', 'working on high school'\n",
    "    \n",
    "    High school: 'high school', 'dropped out of two-year college', 'graduated from high school', 'dropped out of college/university'\n",
    "    \n",
    "    Associates: 'working on two-year college', 'two-year college', 'graduated from two-year college', \n",
    "    \n",
    "    Bachelors: 'working on college/university', 'graduated from college/university', 'college/university', 'dropped out of masters program' \n",
    "    \n",
    "    Masters: 'graduated from masters program', 'working on masters program', 'masters program', 'dropped out of ph.d program', 'dropped out of med school', 'dropped out of law school'\n",
    "    \n",
    "    Doctors: 'graduated from PH/d program', 'graduated from law school', 'working on ph.d program', 'working on med school', 'graduated from med school', 'working on law school', 'law school', 'ph.d program', 'med school'\n",
    "    \n",
    "    Space camp: 'working on space camp', 'graduated from space camp', 'dropped out of space camp' \n",
    "    "
   ]
  },
  {
   "cell_type": "code",
   "execution_count": 3,
   "metadata": {},
   "outputs": [
    {
     "name": "stdout",
     "output_type": "stream",
     "text": [
      "sex  :\n",
      "\n",
      " ['m' 'f']\n",
      "age  :\n",
      "\n",
      " [ 22  35  38  23  29  32  31  24  37  28  30  39  33  26  27  20  25  40\n",
      "  36  21  34  43  46  41  42  45  18  55  50  59  44  48  54  51  62  52\n",
      "  19  58  66  53  63  47  49  61  60  57  56  65  64  68 110  69  67 109]\n",
      "orientation  :\n",
      "\n",
      " ['straight' 'bisexual' 'gay']\n",
      "smokes  :\n",
      "\n",
      " ['sometimes' 'no' nan 'when drinking' 'yes' 'trying to quit']\n",
      "status  :\n",
      "\n",
      " ['single' 'available' 'seeing someone' 'married' 'unknown']\n",
      "income  :\n",
      "\n",
      " [     -1   80000   20000   40000   30000   50000   60000 1000000  150000\n",
      "  100000  500000   70000  250000]\n",
      "education  :\n",
      "\n",
      " ['working on college/university' 'working on space camp'\n",
      " 'graduated from masters program' 'graduated from college/university'\n",
      " 'working on two-year college' nan 'graduated from high school'\n",
      " 'working on masters program' 'graduated from space camp'\n",
      " 'college/university' 'dropped out of space camp'\n",
      " 'graduated from ph.d program' 'graduated from law school'\n",
      " 'working on ph.d program' 'two-year college'\n",
      " 'graduated from two-year college' 'working on med school'\n",
      " 'dropped out of college/university' 'space camp'\n",
      " 'graduated from med school' 'dropped out of high school'\n",
      " 'working on high school' 'masters program' 'dropped out of ph.d program'\n",
      " 'dropped out of two-year college' 'dropped out of med school'\n",
      " 'high school' 'working on law school' 'law school'\n",
      " 'dropped out of masters program' 'ph.d program'\n",
      " 'dropped out of law school' 'med school']\n",
      "diet  :\n",
      "\n",
      " ['strictly anything' 'mostly other' 'anything' 'vegetarian' nan\n",
      " 'mostly anything' 'mostly vegetarian' 'strictly vegan'\n",
      " 'strictly vegetarian' 'mostly vegan' 'strictly other' 'mostly halal'\n",
      " 'other' 'vegan' 'mostly kosher' 'strictly halal' 'halal'\n",
      " 'strictly kosher' 'kosher']\n",
      "height  :\n",
      "\n",
      " [75. 70. 68. 71. 66. 67. 65. 72. 62. 64. 69. 73. 74. 60. 63. 76. 61. 78.\n",
      " 79. 59. 80. 91. 83. 77. 58. 56. 95. 57. 87. 81. 36. 43. 52. 55. 53. 93.\n",
      "  8. 54. 82.  3. 86. 42. 84. 94. 50.  6. 47. 49. 48. 90. 88. nan 37.  9.\n",
      " 51.  1. 92. 26. 85. 89.  4.]\n",
      "job  :\n",
      "\n",
      " ['transportation' 'hospitality / travel' nan 'student'\n",
      " 'artistic / musical / writer' 'computer / hardware / software'\n",
      " 'banking / financial / real estate' 'entertainment / media'\n",
      " 'sales / marketing / biz dev' 'other' 'medicine / health'\n",
      " 'science / tech / engineering' 'executive / management'\n",
      " 'education / academia' 'clerical / administrative'\n",
      " 'construction / craftsmanship' 'rather not say' 'political / government'\n",
      " 'law / legal services' 'unemployed' 'military' 'retired']\n",
      "body_type  :\n",
      "\n",
      " ['a little extra' 'average' 'thin' 'athletic' 'fit' nan 'skinny' 'curvy'\n",
      " 'full figured' 'jacked' 'rather not say' 'used up' 'overweight']\n",
      "sign  :\n",
      "\n",
      " ['gemini' 'cancer' 'pisces but it doesn&rsquo;t matter' 'pisces'\n",
      " 'aquarius' 'taurus' 'virgo' 'sagittarius'\n",
      " 'gemini but it doesn&rsquo;t matter' 'cancer but it doesn&rsquo;t matter'\n",
      " 'leo but it doesn&rsquo;t matter' nan\n",
      " 'aquarius but it doesn&rsquo;t matter'\n",
      " 'aries and it&rsquo;s fun to think about'\n",
      " 'libra but it doesn&rsquo;t matter'\n",
      " 'pisces and it&rsquo;s fun to think about' 'libra'\n",
      " 'taurus but it doesn&rsquo;t matter'\n",
      " 'sagittarius but it doesn&rsquo;t matter' 'scorpio and it matters a lot'\n",
      " 'gemini and it&rsquo;s fun to think about'\n",
      " 'leo and it&rsquo;s fun to think about'\n",
      " 'cancer and it&rsquo;s fun to think about'\n",
      " 'libra and it&rsquo;s fun to think about'\n",
      " 'aquarius and it&rsquo;s fun to think about'\n",
      " 'virgo but it doesn&rsquo;t matter'\n",
      " 'scorpio and it&rsquo;s fun to think about'\n",
      " 'capricorn but it doesn&rsquo;t matter' 'scorpio'\n",
      " 'capricorn and it&rsquo;s fun to think about' 'leo'\n",
      " 'aries but it doesn&rsquo;t matter' 'aries'\n",
      " 'scorpio but it doesn&rsquo;t matter'\n",
      " 'sagittarius and it&rsquo;s fun to think about'\n",
      " 'libra and it matters a lot' 'taurus and it&rsquo;s fun to think about'\n",
      " 'leo and it matters a lot' 'virgo and it&rsquo;s fun to think about'\n",
      " 'cancer and it matters a lot' 'capricorn' 'pisces and it matters a lot'\n",
      " 'aries and it matters a lot' 'capricorn and it matters a lot'\n",
      " 'aquarius and it matters a lot' 'sagittarius and it matters a lot'\n",
      " 'gemini and it matters a lot' 'taurus and it matters a lot'\n",
      " 'virgo and it matters a lot']\n"
     ]
    }
   ],
   "source": [
    "features = ['sex', 'age', 'orientation', 'smokes', 'status', 'income', 'education', 'diet', 'height', 'job', 'body_type', 'sign']\n",
    "\n",
    "for i in features:\n",
    "    print(i, ' :\\n\\n',love[i].unique())"
   ]
  },
  {
   "cell_type": "markdown",
   "metadata": {},
   "source": [
    "The heights values look a little weird, with heights of one inch or three inches and so on. Start with looking at the histogram distribution to see the amount of values that are at the low end. "
   ]
  },
  {
   "cell_type": "code",
   "execution_count": 8,
   "metadata": {},
   "outputs": [
    {
     "data": {
      "image/png": "[encoded data removed]",
      "text/plain": [
       "<Figure size 432x288 with 1 Axes>"
      ]
     },
     "metadata": {
      "needs_background": "light"
     },
     "output_type": "display_data"
    },
    {
     "data": {
      "text/plain": [
       "<Figure size 432x288 with 0 Axes>"
      ]
     },
     "metadata": {},
     "output_type": "display_data"
    }
   ],
   "source": [
    "plt.hist(love.height)\n",
    "plt.show()\n",
    "plt.clf()"
   ]
  },
  {
   "cell_type": "markdown",
   "metadata": {},
   "source": [
    "The counts of the information is really high, and makes the scaling difficult to understand the counts on the low end. The histogram is resized to look at heights below fifty inches. "
   ]
  },
  {
   "cell_type": "code",
   "execution_count": 9,
   "metadata": {},
   "outputs": [
    {
     "data": {
      "image/png": "[encoded data removed]",
      "text/plain": [
       "<Figure size 432x288 with 1 Axes>"
      ]
     },
     "metadata": {
      "needs_background": "light"
     },
     "output_type": "display_data"
    },
    {
     "data": {
      "text/plain": [
       "<Figure size 432x288 with 0 Axes>"
      ]
     },
     "metadata": {},
     "output_type": "display_data"
    }
   ],
   "source": [
    "plt.hist(love.height, range = (0, 50))\n",
    "plt.show()\n",
    "plt.clf()\n",
    "\n",
    "### need to map for shorter heights with average of population. Start height at 3'."
   ]
  },
  {
   "cell_type": "markdown",
   "metadata": {},
   "source": [
    "It looks like there are some heights below ten that could be revised. Those below ten will be converted to the average height of the other items. The count of these values is low, and should have minimal impact on results. \n",
    "\n",
    "Much of the data is not in a numerical format and needs to be mapped to something that a machine learning algorithm can analyze. To start, I list out the unique values to check for mapping that has a scale. The zodiac signs does not easily allow for converting to a numerical scale. Also, the job and diet values will be hard to map to numbers. I'll remove that data from the set.\n",
    "\n",
    "For sex, I will convert to a 1 for male and 0 for female.\n",
    "\n",
    "For sexual orientation, I will convert to a 0 is straight, 1 is bisexual, and 2 is gay.\n",
    "\n",
    "For drinking, I will convert 'no' to 0, 'sometimes' to 1, 'when drinking' to 2, 'yes' to 2, and 'trying to quit' to 3. I am combining the 'when drinking' and 'yes' as those responses are similar. There is a fair amount of nan values that I am going to fill with the rounded average of the responses.\n",
    "\n",
    "For status, I will convert 'single' to 0, 'available' to 1, 'seeing someone' to 2, 'married' to 3, and 'unknown' to 4.\n",
    "\n",
    "For school, there will be more work to group the levels. To simplify the data, it will be broken down into five buckets from didn't finish high school, high school, associates, bachelors, masters, doctors, and space camp. If someone started a program but didn't finish - they will be dropped down the lower level. Those working on a level will be considered the next level down. The following will be the groupings:\n",
    "\n",
    "    No high school: 'dropped out of high school', 'working on high school'\n",
    "\n",
    "    High school: 'high school', 'dropped out of two-year college', 'graduated from high school', 'dropped out of college/university'\n",
    "\n",
    "    Associates: 'working on two-year college', 'two-year college', 'graduated from two-year college', \n",
    "\n",
    "    Bachelors: 'working on college/university', 'graduated from college/university', 'college/university', 'dropped out of masters program' \n",
    "\n",
    "    Masters: 'graduated from masters program', 'working on masters program', 'masters program', 'dropped out of ph.d program', 'dropped out of med school', 'dropped out of law school'\n",
    "\n",
    "    Professional: 'graduated from PH/d program', 'graduated from law school', 'working on ph.d program', 'working on med school', 'graduated from med school', 'working on law school', 'law school', 'ph.d program', 'med school'\n",
    "\n",
    "    Space camp: 'working on space camp', 'graduated from space camp', 'dropped out of space camp' \n",
    "\n",
    "The above brackets could be broken into further categories, and exploration of different groups could be done as further work. That is not covered in this analysis. \n",
    "\n",
    "The other category with a breakdown potential is body type. Body type breaks down as such:\n",
    "    0 : 'thin', 'skinny'\n",
    "    1 : 'athletic', 'fit', 'jacked'\n",
    "    2 : 'a little extra', 'average', Nan, 'rather not say'\n",
    "    3 : 'used up', 'overweight', 'full figured', 'curvy'\n",
    " \n",
    "For nan and prefer not to say, I will map as average given there is a decent chance they are of average weight. As with the education status, the weight can be further broken down. This one is the least gradient of options for using numbers and may come out as not being that important factor of income. "
   ]
  },
  {
   "cell_type": "code",
   "execution_count": 3,
   "metadata": {
    "scrolled": false
   },
   "outputs": [
    {
     "name": "stdout",
     "output_type": "stream",
     "text": [
      "    sex  age  orientation  smokes  status  income  education  height  \\\n",
      "1     0   35            0     0.0       0   80000        6.0    70.0   \n",
      "3     0   23            0     0.0       0   20000        3.0    71.0   \n",
      "11    0   28            0     0.0       2   40000        3.0    72.0   \n",
      "13    1   30            0     0.0       0   30000        1.0    66.0   \n",
      "14    1   29            0     0.0       0   50000        3.0    62.0   \n",
      "\n",
      "    body_type  \n",
      "1         2.0  \n",
      "3         0.0  \n",
      "11        2.0  \n",
      "13        0.0  \n",
      "14        0.0  \n",
      "       sex   age  orientation  smokes  status    income  education  height  \\\n",
      "1      0.0  35.0          0.0     0.0     0.0   80000.0        6.0    70.0   \n",
      "3      0.0  23.0          0.0     0.0     0.0   20000.0        3.0    71.0   \n",
      "11     0.0  28.0          0.0     0.0     2.0   40000.0        3.0    72.0   \n",
      "13     1.0  30.0          0.0     0.0     0.0   30000.0        1.0    66.0   \n",
      "14     1.0  29.0          0.0     0.0     0.0   50000.0        3.0    62.0   \n",
      "...    ...   ...          ...     ...     ...       ...        ...     ...   \n",
      "59917  0.0  26.0          0.0     0.0     0.0  100000.0        4.0    71.0   \n",
      "59927  1.0  26.0          0.0     0.0     0.0   50000.0        3.0    69.0   \n",
      "59930  0.0  41.0          2.0     0.0     0.0   70000.0        3.0    76.0   \n",
      "59934  1.0  43.0          0.0     0.0     0.0   80000.0        4.0    63.0   \n",
      "59943  0.0  42.0          0.0     0.0     0.0  100000.0        4.0    71.0   \n",
      "\n",
      "       body_type  \n",
      "1            2.0  \n",
      "3            0.0  \n",
      "11           2.0  \n",
      "13           0.0  \n",
      "14           0.0  \n",
      "...          ...  \n",
      "59917        1.0  \n",
      "59927        3.0  \n",
      "59930        3.0  \n",
      "59934        2.0  \n",
      "59943        2.0  \n",
      "\n",
      "[11504 rows x 9 columns]\n",
      "sex  : 0\n",
      "age  : 0\n",
      "orientation  : 0\n",
      "smokes  : 0\n",
      "status  : 0\n",
      "income  : 0\n",
      "education  : 0\n",
      "height  : 0\n",
      "body_type  : 0\n",
      "    sex       age  orientation  smokes  status  income  education  height  \\\n",
      "0   0.0  0.416667          0.0     0.0     0.0   0.375        3.0     0.2   \n",
      "1   0.0 -0.583333          0.0     0.0     0.0  -0.375        0.0     0.4   \n",
      "2   0.0 -0.166667          0.0     0.0     2.0  -0.125        0.0     0.6   \n",
      "3   1.0  0.000000          0.0     0.0     0.0  -0.250       -2.0    -0.6   \n",
      "4   1.0 -0.083333          0.0     0.0     0.0   0.000        0.0    -1.4   \n",
      "5   0.0  0.833333          0.0     0.0     0.0   0.125        0.0     0.4   \n",
      "6   1.0  0.083333          1.0     0.0     0.0  11.875        3.0    -0.4   \n",
      "7   0.0 -0.666667          0.0     0.0     0.0  -0.375        0.0    -0.8   \n",
      "8   0.0  0.416667          0.0     0.0     0.0   1.250        3.0     0.8   \n",
      "9   1.0  0.083333          0.0     0.0     0.0   0.000        2.0    -1.6   \n",
      "10  0.0 -0.750000          0.0     0.0     0.0  -0.375        0.0     0.4   \n",
      "11  0.0  0.333333          0.0     0.0     0.0   0.625        1.0     0.0   \n",
      "12  1.0 -0.083333          0.0     0.0     1.0   0.000       -1.0    -0.4   \n",
      "13  0.0 -0.083333          0.0     0.0     0.0  -0.125        0.0    -0.4   \n",
      "14  0.0 -0.416667          0.0     0.0     0.0   0.375        0.0     1.8   \n",
      "15  0.0  0.916667          0.0     0.0     0.0  11.875        3.0     0.0   \n",
      "16  0.0  0.750000          0.0     0.0     0.0   0.625       -1.0     0.2   \n",
      "17  0.0 -0.750000          0.0     0.0     0.0   5.625        2.0     0.6   \n",
      "18  1.0 -0.583333          0.0     2.0     0.0  -0.375        0.0    -0.6   \n",
      "19  0.0 -0.750000          0.0     1.0     0.0  11.875        3.0     0.2   \n",
      "\n",
      "    body_type  \n",
      "0         1.0  \n",
      "1        -1.0  \n",
      "2         1.0  \n",
      "3        -1.0  \n",
      "4        -1.0  \n",
      "5         0.0  \n",
      "6        -1.0  \n",
      "7         0.0  \n",
      "8         0.0  \n",
      "9         2.0  \n",
      "10        0.0  \n",
      "11        0.0  \n",
      "12        1.0  \n",
      "13        0.0  \n",
      "14        0.0  \n",
      "15        0.0  \n",
      "16        0.0  \n",
      "17        0.0  \n",
      "18        2.0  \n",
      "19       -1.0  \n"
     ]
    }
   ],
   "source": [
    "# creating a new dataframe to reload data. Otherwise, the dataframe gets \\\n",
    "# overwritten and makes all the values NaN on rerunning the cell.  \n",
    "headings = ['sex', 'age', 'orientation', 'smokes', 'status', 'income', 'education', 'height','body_type']\n",
    "love_map = pd.DataFrame(data=love[headings])\n",
    "love_map.sex = love.sex.map({'m':0, 'f':1})\n",
    "love_map.orientation = love.orientation.map({'straight':0, 'bisexual':1, 'gay':2})\n",
    "love_map.smokes = love.smokes.map({'no':0, 'sometimes':1, 'when drinking':2, 'yes':2, 'trying to quit': 3})\n",
    "love_map.smokes.fillna(0, inplace = True)\n",
    "love_map.status = love.status.map({'single':0, 'available':1, 'seeing someone':2, 'married':3, 'unknown': 4})\n",
    "love_map.status.fillna(0, inplace = True)\n",
    "# This mapping is a little sloppy with the text going far to the right, and may be hard to read on some screens.\n",
    "#The reason for the run ons is each mapping level is on the same line making checking values easier. \n",
    "love_map.education = love.education.map({'dropped out of high school': 0, 'working on high school': 0, \n",
    "                                             'high school': 1, 'dropped out of two-year college':1, 'graduated from high school':1, 'dropped out of college/university':1,\n",
    "                                             'working on two-year college':2, 'two-year college':2, 'graduated from two-year college':2,\n",
    "                                             'working on college/university':3, 'graduated from college/university':3, 'college/university':3, 'dropped out of masters program':3,\n",
    "                                             'graduated from masters program': 4, 'working on masters program':4 , 'masters program' :4, 'dropped out of ph.d program':4, 'dropped out of med school':4, 'dropped out of law school':4,\n",
    "                                             'graduated from PH/d program': 5, 'graduated from law school':5, 'working on ph.d program':5, 'working on med school':5, 'graduated from med school':5, 'working on law school':5, 'law school':5, 'ph.d program':5, 'med school':5,\n",
    "                                             'working on space camp':6, 'graduated from space camp':6, 'dropped out of space camp':6\n",
    "                                            })\n",
    "love_map.education.fillna(2, inplace = True)\n",
    "love_map.body_type = love.body_type.map({'thin':0, 'skinny':0,\n",
    "                                   'athletic': 1, 'fit' : 1, 'jacked' : 1, \n",
    "                                   'a little extra': 2, 'average': 2, 'rather not say': 2,\n",
    "                                   'used up' : 3, 'overweight' : 3, 'full figured' : 3, 'curvy' : 3\n",
    "                                  })\n",
    "love_map.body_type.fillna(2, inplace = True)\n",
    "love_map.height = love.height.apply(lambda x: love_map.height.mean() \n",
    "                                        if x <= 10\n",
    "                                        else x)\n",
    "love_map.height.fillna(love_map.height.mean(), inplace = True)\n",
    "love_map.reset_index()\n",
    "love_map['income'] = love['income']\n",
    "love_map.income.dropna(inplace = True)\n",
    "love_map = love_map[love_map.income != -1]\n",
    "love_map.reset_index()\n",
    "love_small = love_map[headings]\n",
    "#Verify the mapping has been properly applied.\n",
    "print(love_map[headings].head())\n",
    "print(love_small[~love_small.isin([np.nan, np.inf, -np.inf]).any(1)].astype(np.float64))\n",
    "for i in headings:\n",
    "    print(i, ' :', np.isnan(love_map[i]).values.sum())\n",
    "\n",
    "scaler = RobustScaler().fit(love_map)\n",
    "love_map = pd.DataFrame(scaler.transform(love_map), columns = headings)\n",
    "\n",
    "print(love_map.head(20))"
   ]
  },
  {
   "cell_type": "markdown",
   "metadata": {},
   "source": [
    "Before continuing, I'll print out histagrams of the different headings to see if there are any major biases in the data. Now that the data has been mapped, the data can be broken down into test and training groups."
   ]
  },
  {
   "cell_type": "code",
   "execution_count": 4,
   "metadata": {},
   "outputs": [
    {
     "name": "stderr",
     "output_type": "stream",
     "text": [
      "/Users/Luffy/opt/anaconda3/lib/python3.8/site-packages/sklearn/utils/validation.py:72: DataConversionWarning: A column-vector y was passed when a 1d array was expected. Please change the shape of y to (n_samples, ), for example using ravel().\n",
      "  return f(**kwargs)\n"
     ]
    },
    {
     "data": {
      "image/png": "[encoded data removed]",
      "text/plain": [
       "<Figure size 432x288 with 1 Axes>"
      ]
     },
     "metadata": {
      "needs_background": "light"
     },
     "output_type": "display_data"
    }
   ],
   "source": [
    "inputs = ['sex', 'orientation', 'age','smokes', 'status', 'education', 'height', 'body_type']\n",
    "label  = ['income']\n",
    "x = love_map[inputs]\n",
    "y = love_map[label]\n",
    "\n",
    "x_train, x_test, y_train, y_test = train_test_split(x, y, train_size = .8, test_size = .2)\n",
    "#print(y_test.head(20))\n",
    "\n",
    "lab_enc = LabelEncoder()\n",
    "y_train = lab_enc.fit_transform(y_train)\n",
    "y_test = lab_enc.fit_transform(y_test)\n",
    "\n",
    "\n",
    "plt.hist(y_test, bins = 20)\n",
    "plt.show()"
   ]
  },
  {
   "cell_type": "markdown",
   "metadata": {},
   "source": [
    "# Comparing the different types of machine learning - Part 1\n",
    "\n",
    "The three types of machine learning that will be tested is linear regression, k nearest neighbor, and random forest. \n",
    "\n",
    "The analysis will proceed in two parts. The first part will be choosing a baseline score for each type of modeling. The baseline will be fairly arbitrary, but each method will produce a score. \n",
    "\n",
    "The second phase is to improve the score for each method used. Several methods for improving the score will be used. One will be pruning the data to see if having less data improves the score for each of the methods. From there I'll change the number of k neighbors for the KNN model. For the random forest, I'll attempt to find an optimal number of estimators and random states. \n",
    "\n",
    "To grade the best model, the score of the test data will be used to find the best way to predict income. I'll also analyze which features have the highest impact on income. \n",
    "\n",
    "Lets start with linear regression. "
   ]
  },
  {
   "cell_type": "markdown",
   "metadata": {},
   "source": [
    "### Linear Regression - Part 1"
   ]
  },
  {
   "cell_type": "markdown",
   "metadata": {},
   "source": [
    "Good old linear regression. Throw back to middle school. Except now supercharged with machine learning! \n",
    "\n",
    "The goal with using multi-dimensional linear regression is to see if we can create a fit that will predict income. "
   ]
  },
  {
   "cell_type": "code",
   "execution_count": 6,
   "metadata": {},
   "outputs": [
    {
     "data": {
      "text/plain": [
       "LinearRegression()"
      ]
     },
     "execution_count": 6,
     "metadata": {},
     "output_type": "execute_result"
    }
   ],
   "source": [
    "regression = LinearRegression()\n",
    "regression.fit(x_train, y_train)"
   ]
  },
  {
   "cell_type": "code",
   "execution_count": 7,
   "metadata": {},
   "outputs": [
    {
     "name": "stdout",
     "output_type": "stream",
     "text": [
      "[-0.84190468 -0.48734629  1.02672982 -0.33979949 -0.16941229  0.49555374\n",
      "  0.24304477 -0.33355124]\n",
      "0.1589409868092112\n"
     ]
    }
   ],
   "source": [
    "y_predict = regression.predict(x_test)\n",
    "print(regression.coef_)\n",
    "print(regression.score(x_test, y_test))"
   ]
  },
  {
   "cell_type": "markdown",
   "metadata": {},
   "source": [
    "So not a great start linear regression. A score of less than one is pretty bad. In phase two, we can see if pruning will get that score up. Based on the coefficient values, there are some good candidates for droppring from the dataset. "
   ]
  },
  {
   "cell_type": "markdown",
   "metadata": {},
   "source": [
    "### K Neighbor Regressor - Part 1"
   ]
  },
  {
   "cell_type": "markdown",
   "metadata": {},
   "source": [
    "Next we will test out a k nearest neighbor regression model. We take the same test data as the linear regression model, and plug it into the k neighbor regression model. \n",
    "\n",
    "The score has the same R squared value of measuring the fit as the linear regression. "
   ]
  },
  {
   "cell_type": "code",
   "execution_count": 8,
   "metadata": {},
   "outputs": [
    {
     "data": {
      "text/plain": [
       "-0.1395367419793041"
      ]
     },
     "execution_count": 8,
     "metadata": {},
     "output_type": "execute_result"
    }
   ],
   "source": [
    "k_mean = KNeighborsRegressor(n_neighbors=3, weights = 'distance')\n",
    "k_mean.fit(x_train, y_train)\n",
    "k_mean.score(x_test, y_test)"
   ]
  },
  {
   "cell_type": "markdown",
   "metadata": {},
   "source": [
    "So I am not sure why I am getting a negative value with an R squared function. But, this model is currently performing worse than the linear regression model by going negative. \n",
    "\n",
    "I'll explore the negative correlation further when this is reviewed over a range of neighbors. "
   ]
  },
  {
   "cell_type": "markdown",
   "metadata": {},
   "source": [
    "### Random Forest - Part 1"
   ]
  },
  {
   "cell_type": "markdown",
   "metadata": {},
   "source": [
    "Finally, I am going to test the predictve power of Random Forest with the same data sets as the parts above. I've arbitrarialy choosen 2000 estimators for this system and a random state of zero. I'll explore more estimators and random states in part 2. The math and calculations will get intense!"
   ]
  },
  {
   "cell_type": "code",
   "execution_count": 9,
   "metadata": {
    "scrolled": true
   },
   "outputs": [
    {
     "data": {
      "text/plain": [
       "0.24511082138200782"
      ]
     },
     "execution_count": 9,
     "metadata": {},
     "output_type": "execute_result"
    }
   ],
   "source": [
    "classifier = RandomForestClassifier(n_estimators = 2000, random_state = 0)\n",
    "classifier.fit(x_train, y_train)\n",
    "classifier.score(x_test, y_test)\n"
   ]
  },
  {
   "cell_type": "markdown",
   "metadata": {},
   "source": [
    "Of the three, this one has the highest predictive power of 78. This is encouraging that one of the methods is strongly predicting the outcome. However, all three methods can use further refinement. "
   ]
  },
  {
   "cell_type": "markdown",
   "metadata": {},
   "source": [
    "# Comparing the different types of machine learning - part 2\n",
    "\n",
    "To recap, the model I am attempting to build will best predict the income of a person based on the other self reported features. As with all self reported features, there is a level of scepticism that is needed because all self reported data is subject to bias. Maybe the individual is more fit, or wealthy, or kinda sorta holding back on a dating site to put their best foot forward. \n",
    "\n",
    "For part two, it is about to come off the chain. I'm going to test several elements. First, I am going to build arrays of different permutations of the features used to identified income. Will removing some columns result in better predictive scores? \n",
    "\n",
    "For k nearest neighbor and random forest, there are several other variables to test. \n",
    "\n",
    "For k nearest neighbor, the number of neighbors and the type of weights can be changed in addtion to the number of features used. Furthermore, k nearest neighbor can weight be uniform or distance. In theory distance should perform better because it weights as an inverse square of the distance from the centroid to the point. But, for this problem, uniform may perform better. \n",
    "\n",
    "There are other parameters in the k means regressor that could be changed as further work. \n",
    "\n",
    "Finally, the random forest. The first I will play with is the number of estimators. I am going to tray a wide range of estimators to see the sweet spot for the number of estimations. Also, the random state will go over a range to see how that impacts each output. \n",
    "\n",
    "To simplify the analysis of each option, there will be graphing of the score to make it easier to find the optimal option. I could use a function to find the maximum score and the parameters... but that isn't as pretty to look at. "
   ]
  },
  {
   "cell_type": "markdown",
   "metadata": {},
   "source": [
    "### Linear Regression - Part 2"
   ]
  },
  {
   "cell_type": "markdown",
   "metadata": {},
   "source": [
    "This will be the easiest version to model. The only thing that will be changed is the number of features (columns) included in the linear regression model. \n",
    "\n",
    "The easiest way to test all possible pruning options, a simple combination without replacement can be used. Is this overkill? Probably. Looking at the scores from the first run, it is apparent the main factors. But, where is the fun in testing a few options when I can run everything through the linear regression model? "
   ]
  },
  {
   "cell_type": "code",
   "execution_count": 5,
   "metadata": {},
   "outputs": [],
   "source": [
    "col_combinations = []\n",
    "#needed to start at 1 otherwise an empty list will be created and cause a processing error\n",
    "for n in range(1,len(inputs)): \n",
    "    col_combinations += combinations(inputs, n)\n",
    "\n",
    "#Uncomment to view the different combinations\n",
    "#print('\\n',list(col_combinations)) "
   ]
  },
  {
   "cell_type": "markdown",
   "metadata": {},
   "source": [
    "Beautiful, beautiful combinations of all the different types headings. From here, the different combinations can be computed, fitted, and a score can be generated. I'll take each of the scores, and place it into another list. Having the list, I'll graph the scores, and see which combination produces the best result. \n",
    "\n",
    "The one downside I anticipate with this method is it will be computationally intensive. There is a lot of combinations for this single computer to crunch through. But, I think the final result will be much more satisfying. "
   ]
  },
  {
   "cell_type": "code",
   "execution_count": 80,
   "metadata": {},
   "outputs": [],
   "source": [
    "linear_score_list = []\n",
    "linear_coef_list = []\n",
    "for i in col_combinations:    \n",
    "    inputs = list(i) #convert the values to a list\n",
    "    label  = ['income']\n",
    "    #print(love_map[inputs])\n",
    "    x = love_map[inputs] # plug the new heading into data frame for creating a new dataframe to train/test/split\n",
    "    y = love_map[label]\n",
    "    \n",
    "    x_train, x_test, y_train, y_test = train_test_split(x, y, train_size = .8, test_size = .2)\n",
    "    regression.fit(x_train, y_train) # fit for new training data\n",
    "    linear_score_list.append(regression.score(x_test, y_test)) #save count and regression score\n",
    "    linear_coef_list.append(list(regression.coef_[0])) #save the coefficients for that run\n",
    "    \n",
    "#print(linear_coef_list)"
   ]
  },
  {
   "cell_type": "markdown",
   "metadata": {},
   "source": [
    "Now that all of the different combinations have been tested, those values and coefficients can be plotted to find the best fit. The closer to 1 the score (r squared value) the better in the graph. Also, The best score and the place in the array is printed out. Let's see the best score... "
   ]
  },
  {
   "cell_type": "code",
   "execution_count": 81,
   "metadata": {},
   "outputs": [
    {
     "data": {
      "image/png": "[encoded data removed]",
      "text/plain": [
       "<Figure size 432x288 with 1 Axes>"
      ]
     },
     "metadata": {
      "needs_background": "light"
     },
     "output_type": "display_data"
    },
    {
     "name": "stdout",
     "output_type": "stream",
     "text": [
      "Maximum value: 0.03375294433089726 At index: 249\n"
     ]
    },
    {
     "data": {
      "text/plain": [
       "<Figure size 432x288 with 0 Axes>"
      ]
     },
     "metadata": {},
     "output_type": "display_data"
    }
   ],
   "source": [
    "plt.plot(linear_score_list)\n",
    "plt.title('Plot of Linear Regression Combination Scores')\n",
    "plt.ylabel('R Score')\n",
    "plt.xlabel('Attempt Number')\n",
    "plt.show()\n",
    "plt.clf()\n",
    "\n",
    "max_value = max(linear_score_list)\n",
    "max_loc = linear_score_list.index(max_value)\n",
    "print('Maximum value:', max_value, \"At index:\", max_loc)"
   ]
  },
  {
   "cell_type": "code",
   "execution_count": 82,
   "metadata": {},
   "outputs": [
    {
     "name": "stdout",
     "output_type": "stream",
     "text": [
      "       orientation       age  smokes  status  education  height  body_type\n",
      "4234           0.0 -0.583333     0.0     0.0        0.0     0.6        0.0\n",
      "4115           0.0  0.166667     0.0     2.0        2.0     1.0       -1.0\n",
      "4720           0.0 -0.750000     0.0     0.0        0.0    -0.8        1.0\n",
      "7846           0.0 -0.166667     3.0     0.0       -1.0     0.8        1.0\n",
      "10067          0.0  1.333333     0.0     0.0       -2.0     0.8        1.0\n",
      "2.202654338294611\n"
     ]
    },
    {
     "data": {
      "image/png": "[encoded data removed]",
      "text/plain": [
       "<Figure size 432x288 with 1 Axes>"
      ]
     },
     "metadata": {
      "needs_background": "light"
     },
     "output_type": "display_data"
    },
    {
     "data": {
      "text/plain": [
       "<Figure size 432x288 with 0 Axes>"
      ]
     },
     "metadata": {},
     "output_type": "display_data"
    }
   ],
   "source": [
    "print(x_test.head())\n",
    "Linear_prediction = regression.predict(x_test)\n",
    "print(Linear_prediction.max())\n",
    "plt.scatter(x_test.age, y_test, marker = 'x')\n",
    "plt.scatter(x_test.age, Linear_prediction, marker = 'o')\n",
    "plt.show()\n",
    "plt.clf()"
   ]
  },
  {
   "cell_type": "code",
   "execution_count": 84,
   "metadata": {},
   "outputs": [
    {
     "data": {
      "text/html": [
       "<div>\n",
       "<style scoped>\n",
       "    .dataframe tbody tr th:only-of-type {\n",
       "        vertical-align: middle;\n",
       "    }\n",
       "\n",
       "    .dataframe tbody tr th {\n",
       "        vertical-align: top;\n",
       "    }\n",
       "\n",
       "    .dataframe thead th {\n",
       "        text-align: right;\n",
       "    }\n",
       "</style>\n",
       "<table border=\"1\" class=\"dataframe\">\n",
       "  <thead>\n",
       "    <tr style=\"text-align: right;\">\n",
       "      <th></th>\n",
       "      <th>income</th>\n",
       "    </tr>\n",
       "  </thead>\n",
       "  <tbody>\n",
       "    <tr>\n",
       "      <th>4234</th>\n",
       "      <td>-0.375</td>\n",
       "    </tr>\n",
       "    <tr>\n",
       "      <th>4115</th>\n",
       "      <td>-0.375</td>\n",
       "    </tr>\n",
       "    <tr>\n",
       "      <th>4720</th>\n",
       "      <td>-0.375</td>\n",
       "    </tr>\n",
       "    <tr>\n",
       "      <th>7846</th>\n",
       "      <td>-0.250</td>\n",
       "    </tr>\n",
       "    <tr>\n",
       "      <th>10067</th>\n",
       "      <td>-0.125</td>\n",
       "    </tr>\n",
       "    <tr>\n",
       "      <th>6533</th>\n",
       "      <td>-0.375</td>\n",
       "    </tr>\n",
       "    <tr>\n",
       "      <th>6598</th>\n",
       "      <td>0.625</td>\n",
       "    </tr>\n",
       "    <tr>\n",
       "      <th>11272</th>\n",
       "      <td>0.375</td>\n",
       "    </tr>\n",
       "    <tr>\n",
       "      <th>7522</th>\n",
       "      <td>-0.375</td>\n",
       "    </tr>\n",
       "    <tr>\n",
       "      <th>5372</th>\n",
       "      <td>-0.125</td>\n",
       "    </tr>\n",
       "  </tbody>\n",
       "</table>\n",
       "</div>"
      ],
      "text/plain": [
       "       income\n",
       "4234   -0.375\n",
       "4115   -0.375\n",
       "4720   -0.375\n",
       "7846   -0.250\n",
       "10067  -0.125\n",
       "6533   -0.375\n",
       "6598    0.625\n",
       "11272   0.375\n",
       "7522   -0.375\n",
       "5372   -0.125"
      ]
     },
     "execution_count": 84,
     "metadata": {},
     "output_type": "execute_result"
    }
   ],
   "source": [
    "y_test.head(10)"
   ]
  },
  {
   "cell_type": "markdown",
   "metadata": {},
   "source": [
    "So, the best we get is a score of .0129. Not that great. An improvement of .012 over the baseline test. But, lets take a look at the combination that provided the best score and the weights of those columns. "
   ]
  },
  {
   "cell_type": "code",
   "execution_count": 90,
   "metadata": {},
   "outputs": [
    {
     "data": {
      "text/html": [
       "<div>\n",
       "<style scoped>\n",
       "    .dataframe tbody tr th:only-of-type {\n",
       "        vertical-align: middle;\n",
       "    }\n",
       "\n",
       "    .dataframe tbody tr th {\n",
       "        vertical-align: top;\n",
       "    }\n",
       "\n",
       "    .dataframe thead th {\n",
       "        text-align: right;\n",
       "    }\n",
       "</style>\n",
       "<table border=\"1\" class=\"dataframe\">\n",
       "  <thead>\n",
       "    <tr style=\"text-align: right;\">\n",
       "      <th></th>\n",
       "      <th>headings</th>\n",
       "      <th>coefficients</th>\n",
       "    </tr>\n",
       "  </thead>\n",
       "  <tbody>\n",
       "    <tr>\n",
       "      <th>0</th>\n",
       "      <td>sex</td>\n",
       "      <td>-0.161890</td>\n",
       "    </tr>\n",
       "    <tr>\n",
       "      <th>1</th>\n",
       "      <td>orientation</td>\n",
       "      <td>-0.036127</td>\n",
       "    </tr>\n",
       "    <tr>\n",
       "      <th>2</th>\n",
       "      <td>age</td>\n",
       "      <td>-0.035490</td>\n",
       "    </tr>\n",
       "    <tr>\n",
       "      <th>3</th>\n",
       "      <td>smokes</td>\n",
       "      <td>0.040368</td>\n",
       "    </tr>\n",
       "    <tr>\n",
       "      <th>4</th>\n",
       "      <td>education</td>\n",
       "      <td>0.275375</td>\n",
       "    </tr>\n",
       "    <tr>\n",
       "      <th>5</th>\n",
       "      <td>height</td>\n",
       "      <td>0.134157</td>\n",
       "    </tr>\n",
       "    <tr>\n",
       "      <th>6</th>\n",
       "      <td>body_type</td>\n",
       "      <td>-0.078516</td>\n",
       "    </tr>\n",
       "  </tbody>\n",
       "</table>\n",
       "</div>"
      ],
      "text/plain": [
       "      headings  coefficients\n",
       "0          sex     -0.161890\n",
       "1  orientation     -0.036127\n",
       "2          age     -0.035490\n",
       "3       smokes      0.040368\n",
       "4    education      0.275375\n",
       "5       height      0.134157\n",
       "6    body_type     -0.078516"
      ]
     },
     "execution_count": 90,
     "metadata": {},
     "output_type": "execute_result"
    }
   ],
   "source": [
    "layout_df = pd.DataFrame(col_combinations[max_loc], columns = ['headings']) # pass the location of the max score and store headings\n",
    "layout_df['coefficients'] = pd.DataFrame(linear_coef_list[max_loc]) # pass the location of the max score and store coefficients\n",
    "\n",
    "layout_df[['headings', 'coefficients']]"
   ]
  },
  {
   "cell_type": "markdown",
   "metadata": {},
   "source": [
    "So smokes and education are the most strongly correlated to income. But, with the low score (R squared) value, linear regression doesn't seem to be a great fit for predicting income. "
   ]
  },
  {
   "cell_type": "markdown",
   "metadata": {},
   "source": [
    "### K Nearest Neighbor - Part 2\n",
    "\n",
    "So in the base case 3 neighbors were used. For part 2, the number of neighbors will be tried from 1 to 100. If it doesn't look like there is convergance about a point, a higher value will be choosen. \n",
    "\n",
    "After making sure that chunk of code works, There is going to be another round of testing with changing the number of columns used in the test data. There will be a test of changing the columns and sweeping through the different neighbors. "
   ]
  },
  {
   "cell_type": "code",
   "execution_count": 91,
   "metadata": {},
   "outputs": [
    {
     "data": {
      "image/png": "[encoded data removed]",
      "text/plain": [
       "<Figure size 432x288 with 1 Axes>"
      ]
     },
     "metadata": {
      "needs_background": "light"
     },
     "output_type": "display_data"
    },
    {
     "data": {
      "text/plain": [
       "<Figure size 432x288 with 0 Axes>"
      ]
     },
     "metadata": {},
     "output_type": "display_data"
    }
   ],
   "source": [
    "k_score = []\n",
    "for i in range(1,100):\n",
    "    k_mean = KNeighborsRegressor(n_neighbors=i, weights = 'distance')\n",
    "    k_mean.fit(x_train, y_train)\n",
    "    k_score.append(k_mean.score(x_test, y_test))\n",
    "    \n",
    "plt.plot(k_score)\n",
    "plt.show()\n",
    "plt.clf()"
   ]
  },
  {
   "cell_type": "markdown",
   "metadata": {},
   "source": [
    "After seeing the 'knee' in the score occur at values of less than 20, the range of neighbors will drop to 20 for each k nearest neighbor test. Otherwise, the number of computations for each combination will get excessive slowing down the program. \n",
    "\n",
    "What is worrying is even with a test case there is a negative r squared score. Maybe with higher values of k the r score will improve? \n",
    "\n",
    "Below I have added tests for changing the number of columns used in the analysis along with varying k values. This data run will take awhile, but give a great range of changing the input columns and the number neighbors in the same calculation. "
   ]
  },
  {
   "cell_type": "code",
   "execution_count": 92,
   "metadata": {},
   "outputs": [],
   "source": [
    "counter = 0\n",
    "k_score_df = pd.DataFrame(range(1,21))\n",
    "k_mean_lists = []\n",
    "\n",
    "for i in col_combinations:    \n",
    "    inputs = list(i) #convert the values to a list\n",
    "    label  = ['income']\n",
    "    #print(inputs)\n",
    "    x = love_map[inputs] # plug the new heading into data frame for creating a new dataframe to train/test/split\n",
    "    y = love_map[label]\n",
    "    \n",
    "    x_train, x_test, y_train, y_test = train_test_split(x, y, train_size = .8, test_size = .2)\n",
    "    for j in range(1,21):\n",
    "        k_mean = KNeighborsRegressor(n_neighbors=j, weights = 'distance')\n",
    "        k_mean.fit(x_train, y_train)\n",
    "        k_mean_lists.append(k_mean.score(x_test, y_test))\n",
    "    k_score_df[counter] = pd.DataFrame(k_mean_lists)\n",
    "    k_mean_lists.clear()\n",
    "    #print(k_score_df)\n",
    "    counter += 1\n",
    "    \n"
   ]
  },
  {
   "cell_type": "markdown",
   "metadata": {},
   "source": [
    "Now all of the data has been loaded into a data frame. What I want to find is the combination that returns the highest score (R squared) value of the model. "
   ]
  },
  {
   "cell_type": "code",
   "execution_count": 93,
   "metadata": {},
   "outputs": [
    {
     "data": {
      "image/png": "[encoded data removed]",
      "text/plain": [
       "<Figure size 432x288 with 1 Axes>"
      ]
     },
     "metadata": {
      "needs_background": "light"
     },
     "output_type": "display_data"
    },
    {
     "name": "stdout",
     "output_type": "stream",
     "text": [
      "0     -0.016076\n",
      "1     -0.016742\n",
      "2     -0.051309\n",
      "3     -0.044238\n",
      "4     -0.006674\n",
      "         ...   \n",
      "249   -0.178151\n",
      "250   -0.227832\n",
      "251   -0.144205\n",
      "252   -0.278969\n",
      "253   -0.161861\n",
      "Length: 254, dtype: float64\n"
     ]
    },
    {
     "data": {
      "text/plain": [
       "<Figure size 432x288 with 0 Axes>"
      ]
     },
     "metadata": {},
     "output_type": "display_data"
    }
   ],
   "source": [
    "plt.plot(k_score_df, alpha = .2)\n",
    "plt.show()\n",
    "plt.clf()\n",
    "\n",
    "print(k_score_df.max())"
   ]
  },
  {
   "cell_type": "markdown",
   "metadata": {},
   "source": [
    "What is quite peculiar is the score has an asymptote at zero. No matter the combination, the R square score never exceeds zero. Perhaps the application of this formula isn't correct. \n",
    "\n",
    "Well, it didn't get any better with changing the number of inputs or the number of columns. All of the options maintain a negative score, and have no positive predictive capabilities. Unfortunately, this method is a bust for predicting income. "
   ]
  },
  {
   "cell_type": "markdown",
   "metadata": {},
   "source": [
    "### Random Forest - Part 2"
   ]
  },
  {
   "cell_type": "markdown",
   "metadata": {},
   "source": [
    "The final method to improve is random forest. Of the three methods attempted in part 1, Random Forest had the best predictive capabilities. With the next round of Random Forest, like in the other attempts to improve accuracy, pruning of the trees will happen by reducing and mixing the columns fed into the formula. \n",
    "\n",
    "Like with the k nearest neighbors approach, the number of estimators will also change to see if changing the estimators with changing the number of trees improves the score. \n",
    "\n",
    "To start, lets input a range of estimators to see if the score improves about a certain number of estimators"
   ]
  },
  {
   "cell_type": "code",
   "execution_count": 107,
   "metadata": {},
   "outputs": [
    {
     "name": "stderr",
     "output_type": "stream",
     "text": [
      "<ipython-input-107-2d3bdb98524a>:5: DataConversionWarning: A column-vector y was passed when a 1d array was expected. Please change the shape of y to (n_samples,), for example using ravel().\n",
      "  classifier.fit(x_train, y_train)\n",
      "<ipython-input-107-2d3bdb98524a>:5: DataConversionWarning: A column-vector y was passed when a 1d array was expected. Please change the shape of y to (n_samples,), for example using ravel().\n",
      "  classifier.fit(x_train, y_train)\n",
      "<ipython-input-107-2d3bdb98524a>:5: DataConversionWarning: A column-vector y was passed when a 1d array was expected. Please change the shape of y to (n_samples,), for example using ravel().\n",
      "  classifier.fit(x_train, y_train)\n",
      "<ipython-input-107-2d3bdb98524a>:5: DataConversionWarning: A column-vector y was passed when a 1d array was expected. Please change the shape of y to (n_samples,), for example using ravel().\n",
      "  classifier.fit(x_train, y_train)\n",
      "<ipython-input-107-2d3bdb98524a>:5: DataConversionWarning: A column-vector y was passed when a 1d array was expected. Please change the shape of y to (n_samples,), for example using ravel().\n",
      "  classifier.fit(x_train, y_train)\n",
      "<ipython-input-107-2d3bdb98524a>:5: DataConversionWarning: A column-vector y was passed when a 1d array was expected. Please change the shape of y to (n_samples,), for example using ravel().\n",
      "  classifier.fit(x_train, y_train)\n",
      "<ipython-input-107-2d3bdb98524a>:5: DataConversionWarning: A column-vector y was passed when a 1d array was expected. Please change the shape of y to (n_samples,), for example using ravel().\n",
      "  classifier.fit(x_train, y_train)\n",
      "<ipython-input-107-2d3bdb98524a>:5: DataConversionWarning: A column-vector y was passed when a 1d array was expected. Please change the shape of y to (n_samples,), for example using ravel().\n",
      "  classifier.fit(x_train, y_train)\n",
      "<ipython-input-107-2d3bdb98524a>:5: DataConversionWarning: A column-vector y was passed when a 1d array was expected. Please change the shape of y to (n_samples,), for example using ravel().\n",
      "  classifier.fit(x_train, y_train)\n",
      "<ipython-input-107-2d3bdb98524a>:5: DataConversionWarning: A column-vector y was passed when a 1d array was expected. Please change the shape of y to (n_samples,), for example using ravel().\n",
      "  classifier.fit(x_train, y_train)\n",
      "<ipython-input-107-2d3bdb98524a>:5: DataConversionWarning: A column-vector y was passed when a 1d array was expected. Please change the shape of y to (n_samples,), for example using ravel().\n",
      "  classifier.fit(x_train, y_train)\n",
      "<ipython-input-107-2d3bdb98524a>:5: DataConversionWarning: A column-vector y was passed when a 1d array was expected. Please change the shape of y to (n_samples,), for example using ravel().\n",
      "  classifier.fit(x_train, y_train)\n",
      "<ipython-input-107-2d3bdb98524a>:5: DataConversionWarning: A column-vector y was passed when a 1d array was expected. Please change the shape of y to (n_samples,), for example using ravel().\n",
      "  classifier.fit(x_train, y_train)\n",
      "<ipython-input-107-2d3bdb98524a>:5: DataConversionWarning: A column-vector y was passed when a 1d array was expected. Please change the shape of y to (n_samples,), for example using ravel().\n",
      "  classifier.fit(x_train, y_train)\n",
      "<ipython-input-107-2d3bdb98524a>:5: DataConversionWarning: A column-vector y was passed when a 1d array was expected. Please change the shape of y to (n_samples,), for example using ravel().\n",
      "  classifier.fit(x_train, y_train)\n",
      "<ipython-input-107-2d3bdb98524a>:5: DataConversionWarning: A column-vector y was passed when a 1d array was expected. Please change the shape of y to (n_samples,), for example using ravel().\n",
      "  classifier.fit(x_train, y_train)\n",
      "<ipython-input-107-2d3bdb98524a>:5: DataConversionWarning: A column-vector y was passed when a 1d array was expected. Please change the shape of y to (n_samples,), for example using ravel().\n",
      "  classifier.fit(x_train, y_train)\n",
      "<ipython-input-107-2d3bdb98524a>:5: DataConversionWarning: A column-vector y was passed when a 1d array was expected. Please change the shape of y to (n_samples,), for example using ravel().\n",
      "  classifier.fit(x_train, y_train)\n",
      "<ipython-input-107-2d3bdb98524a>:5: DataConversionWarning: A column-vector y was passed when a 1d array was expected. Please change the shape of y to (n_samples,), for example using ravel().\n",
      "  classifier.fit(x_train, y_train)\n",
      "<ipython-input-107-2d3bdb98524a>:5: DataConversionWarning: A column-vector y was passed when a 1d array was expected. Please change the shape of y to (n_samples,), for example using ravel().\n",
      "  classifier.fit(x_train, y_train)\n"
     ]
    }
   ],
   "source": [
    "forest_array = []\n",
    "forest_predict = []\n",
    "for i in range(100,4000, 500):\n",
    "    classifier = RandomForestRegressor(n_estimators = i, random_state = 0)\n",
    "    classifier.fit(x_train, y_train)\n",
    "    forest_array.append(classifier.score(x_test.values, np.ravel(y_test)))\n",
    "    forest_predict.append(classifier.predict(x_test.values))\n",
    "\n"
   ]
  },
  {
   "cell_type": "markdown",
   "metadata": {},
   "source": [
    "While the output is producing a warning, the program is still processing the information. To analyze the output, let's print out a graph of the scores. "
   ]
  },
  {
   "cell_type": "code",
   "execution_count": 127,
   "metadata": {},
   "outputs": [
    {
     "name": "stdout",
     "output_type": "stream",
     "text": [
      "2301\n"
     ]
    },
    {
     "data": {
      "image/png": "[encoded data removed]",
      "text/plain": [
       "<Figure size 432x288 with 1 Axes>"
      ]
     },
     "metadata": {
      "needs_background": "light"
     },
     "output_type": "display_data"
    },
    {
     "data": {
      "image/png": "[encoded data removed]",
      "text/plain": [
       "<Figure size 432x288 with 1 Axes>"
      ]
     },
     "metadata": {
      "needs_background": "light"
     },
     "output_type": "display_data"
    },
    {
     "data": {
      "text/plain": [
       "<Figure size 432x288 with 0 Axes>"
      ]
     },
     "metadata": {},
     "output_type": "display_data"
    }
   ],
   "source": [
    "#print(forest_array)\n",
    "#print(len(forest_predict[2]))\n",
    "plt.plot(forest_array)\n",
    "plt.show()\n",
    "plt.clf()\n",
    "\n",
    "for i in forest_predict:\n",
    "    plt.scatter(x_test.height, [i], color = 'green', marker = 'x', alpha = .5)\n",
    "\n",
    "plt.scatter(x_test.height, y_test, color = 'orange', marker = 'o', alpha = .5)\n",
    "plt.show()\n",
    "plt.clf()"
   ]
  },
  {
   "cell_type": "markdown",
   "metadata": {},
   "source": [
    "For the first reviewed option, the prediction score never goes above zero. This means there is a slight negative correlation. The lower number of forests is a better negative predictor than adding more forests. \n",
    "\n",
    "To further analyze the options, I'll now do a full sweep of the different combinations of columns to see if there is an optimal combination of data to give the best predictive values. With each combination, the number of forests is changed to find the optimal \"knee\" of each combination. "
   ]
  },
  {
   "cell_type": "code",
   "execution_count": 29,
   "metadata": {},
   "outputs": [],
   "source": [
    "forest_array = []\n",
    "forest_predict = []\n",
    "\n",
    "for i in col_combinations:    \n",
    "    inputs = list(i) #convert the values to a list\n",
    "    label  = ['income']\n",
    "    #print(inputs)\n",
    "    x = love_map[inputs] # plug the new heading into data frame for creating a new dataframe to train/test/split\n",
    "    y = love_map[label]\n",
    "    \n",
    "    x_train, x_test, y_train, y_test = train_test_split(x, y, train_size = .8, test_size = .2)\n",
    "\n",
    "    for i in range(100,4000, 500):\n",
    "        classifier = RandomForestRegressor(n_estimators = i, random_state = 0)\n",
    "        classifier.fit(x_train, np.ravel(y_train))\n",
    "        forest_array.append(classifier.score(x_test.values, np.ravel(y_test)))\n",
    "        forest_predict.append(classifier.predict(x_test.values))\n",
    "        #print(classifier.score(x_test.values, np.ravel(y_test)))"
   ]
  },
  {
   "cell_type": "code",
   "execution_count": 28,
   "metadata": {},
   "outputs": [
    {
     "name": "stdout",
     "output_type": "stream",
     "text": [
      "        1         2         3         4         5         6         7    \\\n",
      "0  0.003981 -0.001902 -0.004490 -0.001074 -0.002750  0.037059  0.002153   \n",
      "1  0.003985 -0.001973 -0.004404 -0.001086 -0.002669  0.037177  0.002087   \n",
      "2  0.003991 -0.001994 -0.004363 -0.001069 -0.002652  0.037145  0.002254   \n",
      "3  0.003992 -0.001962 -0.004306 -0.001068 -0.002656  0.037218  0.002270   \n",
      "4  0.003989 -0.001967 -0.004259 -0.001075 -0.002663  0.037171  0.002252   \n",
      "5  0.003989 -0.001981 -0.004258 -0.001074 -0.002669  0.037132  0.002164   \n",
      "6  0.003987 -0.001954 -0.004277 -0.001078 -0.002676  0.037103  0.002198   \n",
      "\n",
      "        8         9         10   ...       244       245       246       247  \\\n",
      "0  0.004690  0.004465 -0.007999  ... -0.267375 -0.129598 -0.171703 -0.225314   \n",
      "1  0.004692  0.004485 -0.007927  ... -0.265369 -0.127242 -0.170923 -0.226456   \n",
      "2  0.004639  0.004468 -0.007877  ... -0.264989 -0.126498 -0.169760 -0.226284   \n",
      "3  0.004618  0.004462 -0.007907  ... -0.265121 -0.126424 -0.169361 -0.226266   \n",
      "4  0.004599  0.004459 -0.007919  ... -0.263855 -0.126147 -0.169686 -0.226518   \n",
      "5  0.004613  0.004457 -0.007923  ... -0.264189 -0.125733 -0.169307 -0.226398   \n",
      "6  0.004613  0.004462 -0.007941  ... -0.263696 -0.125265 -0.169947 -0.225853   \n",
      "\n",
      "        248       249       250       251       252       253  \n",
      "0 -0.196862 -0.198919 -0.205199 -0.183556 -0.168499 -0.235152  \n",
      "1 -0.196149 -0.197017 -0.205839 -0.180143 -0.165532 -0.236682  \n",
      "2 -0.195576 -0.196009 -0.206206 -0.179636 -0.164573 -0.234894  \n",
      "3 -0.195002 -0.195487 -0.205542 -0.179572 -0.164972 -0.235865  \n",
      "4 -0.195293 -0.195725 -0.205781 -0.179713 -0.165406 -0.235794  \n",
      "5 -0.195713 -0.195410 -0.206072 -0.179785 -0.165663 -0.235686  \n",
      "6 -0.196653 -0.195819 -0.206409 -0.179713 -0.165557 -0.235779  \n",
      "\n",
      "[7 rows x 253 columns]\n"
     ]
    },
    {
     "data": {
      "image/png": "[encoded data removed]",
      "text/plain": [
       "<Figure size 432x288 with 1 Axes>"
      ]
     },
     "metadata": {
      "needs_background": "light"
     },
     "output_type": "display_data"
    },
    {
     "data": {
      "image/png": "[encoded data removed]",
      "text/plain": [
       "<Figure size 432x288 with 1 Axes>"
      ]
     },
     "metadata": {
      "needs_background": "light"
     },
     "output_type": "display_data"
    },
    {
     "data": {
      "text/plain": [
       "<Figure size 432x288 with 0 Axes>"
      ]
     },
     "metadata": {},
     "output_type": "display_data"
    }
   ],
   "source": [
    "counter = 1\n",
    "score_array = []\n",
    "predict_array = []\n",
    "forest_score_df = pd.DataFrame()\n",
    "forest_predict_df = pd.DataFrame()\n",
    "for i in range(1,2032):\n",
    "    if i%8 ==0:\n",
    "        forest_score_df[counter] = score_array\n",
    "        forest_predict_df[counter] = predict_array\n",
    "        counter +=1\n",
    "        score_array = []\n",
    "        predict_array = []\n",
    "    else:\n",
    "        score_array.append(forest_array[i])\n",
    "        predict_array.append(forest_predict[i])\n",
    "        \n",
    "    #print(forest_array[i])\n",
    "print(forest_score_df.head(8))\n",
    "\n",
    "for i in range(1,len(forest_df)):\n",
    "    plt.plot(forest_df[i])\n",
    "plt.show()\n",
    "plt.clf()\n",
    "\n",
    "for i in range(1, len(forest_df)):\n",
    "    plt.plot(predict_array)\n",
    "plt.show()\n",
    "plt.clf()"
   ]
  },
  {
   "cell_type": "markdown",
   "metadata": {},
   "source": [
    "With the first graph, there still isn't much in the way of improvement of the score even when sweeping through different combinations of data and changing the number of forests. One cause of this is my number of forests is too high and I am not seeing the bend like what is shown in the k nearest neighbors graphs. \n",
    "\n",
    "What can be confidently said about the predictive value of this approach is there is not a relationship. \n",
    "\n",
    "When looking at the predicted values from the forest, the values stay close to zero. Which means there is not much predictive value of forest. This approach still struggles with the outliers in terms of income. "
   ]
  },
  {
   "cell_type": "markdown",
   "metadata": {},
   "source": [
    "# Conculsion"
   ]
  },
  {
   "cell_type": "markdown",
   "metadata": {},
   "source": [
    "So, in doing this analsysis most of the predictive models don't produce a strong fit. The scores are all low for making a definitive statement about the connection of other attributes to income. Even the weights of some of the values are not to be trusted given the "
   ]
  }
 ],
 "metadata": {
  "kernelspec": {
   "display_name": "Python 3",
   "language": "python",
   "name": "python3"
  },
  "language_info": {
   "codemirror_mode": {
    "name": "ipython",
    "version": 3
   },
   "file_extension": ".py",
   "mimetype": "text/x-python",
   "name": "python",
   "nbconvert_exporter": "python",
   "pygments_lexer": "ipython3",
   "version": "3.8.5"
  }
 },
 "nbformat": 4,
 "nbformat_minor": 4
}
